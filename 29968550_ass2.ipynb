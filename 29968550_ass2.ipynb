{
 "cells": [
  {
   "cell_type": "markdown",
   "metadata": {},
   "source": [
    "# Import all the requied Modules"
   ]
  },
  {
   "cell_type": "code",
   "execution_count": 1,
   "metadata": {},
   "outputs": [],
   "source": [
    "import re\n",
    "import pandas as pd    \n",
    "import matplotlib as mpl\n",
    "import matplotlib.pyplot as plt\n",
    "import matplotlib.pylab as pylab\n",
    "%matplotlib inline\n",
    "mpl.style.use( 'ggplot' )\n",
    "import numpy as np\n",
    "from datetime import datetime, date   \n",
    "from datetime import timedelta\n",
    "import networkx as nx\n",
    "import calendar\n",
    "import seaborn as sns\n",
    "import numpy as np\n",
    "from sklearn.neighbors import KNeighborsClassifier\n",
    "from sklearn.model_selection import train_test_split\n",
    "from sklearn.linear_model import LinearRegression\n",
    "from sklearn.metrics import mean_squared_error, r2_score\n"
   ]
  },
  {
   "cell_type": "markdown",
   "metadata": {},
   "source": [
    "# Creating data frame"
   ]
  },
  {
   "cell_type": "code",
   "execution_count": 3,
   "metadata": {},
   "outputs": [],
   "source": [
    "df1 = pd.read_csv(\"29968550_dirty_data.csv\") # Data frame for dirty data\n",
    "df2 = pd.read_csv(\"29968550_missing_value.csv\") # Data frame for missing values\n",
    "df3 = pd.read_csv(\"29968550_outliers.csv\") # Data frame for outliers\n",
    "# df4 = pd.read_csv(\"edges.csv\") # Data frame for edges\n",
    "# df5 = pd.read_csv(\"nodes.csv\") # Data frame for nodes"
   ]
  },
  {
   "cell_type": "markdown",
   "metadata": {},
   "source": [
    "\n",
    "# Cleaning 29968550_dirty_data.csv"
   ]
  },
  {
   "cell_type": "markdown",
   "metadata": {},
   "source": [
    "## Checking if there is any anomoly in \"Uber type\""
   ]
  },
  {
   "cell_type": "code",
   "execution_count": 4,
   "metadata": {},
   "outputs": [
    {
     "name": "stdout",
     "output_type": "stream",
     "text": [
      "[0 1 2]\n",
      "int64\n"
     ]
    }
   ],
   "source": [
    "# Finding unique values of uber type\n",
    "print(df1['Uber Type'].unique())\n",
    "# Finding data types of 'Uber type'\n",
    "print(df1['Uber Type'].dtype)"
   ]
  },
  {
   "cell_type": "code",
   "execution_count": 4,
   "metadata": {},
   "outputs": [
    {
     "data": {
      "text/plain": [
       "0    131\n",
       "1    119\n",
       "2     63\n",
       "Name: Uber Type, dtype: int64"
      ]
     },
     "execution_count": 4,
     "metadata": {},
     "output_type": "execute_result"
    },
    {
     "data": {
      "image/png": "[encoded data removed]",
      "text/plain": [
       "<Figure size 432x288 with 1 Axes>"
      ]
     },
     "metadata": {},
     "output_type": "display_data"
    }
   ],
   "source": [
    "sns.countplot(df1['Uber Type'])\n",
    "df1['Uber Type'].value_counts()"
   ]
  },
  {
   "cell_type": "code",
   "execution_count": 5,
   "metadata": {},
   "outputs": [
    {
     "data": {
      "text/html": [
       "<div>\n",
       "<style scoped>\n",
       "    .dataframe tbody tr th:only-of-type {\n",
       "        vertical-align: middle;\n",
       "    }\n",
       "\n",
       "    .dataframe tbody tr th {\n",
       "        vertical-align: top;\n",
       "    }\n",
       "\n",
       "    .dataframe thead th {\n",
       "        text-align: right;\n",
       "    }\n",
       "</style>\n",
       "<table border=\"1\" class=\"dataframe\">\n",
       "  <thead>\n",
       "    <tr style=\"text-align: right;\">\n",
       "      <th></th>\n",
       "      <th>Unnamed: 0</th>\n",
       "      <th>Uber Type</th>\n",
       "      <th>Origin Region</th>\n",
       "      <th>Destination Region</th>\n",
       "      <th>Origin Latitude</th>\n",
       "      <th>Origin Longitude</th>\n",
       "      <th>Destination Latitude</th>\n",
       "      <th>Destination Longitude</th>\n",
       "      <th>Journey Distance(m)</th>\n",
       "      <th>Departure Date</th>\n",
       "      <th>Departure Time</th>\n",
       "      <th>Travel Time(s)</th>\n",
       "      <th>Arrival Time</th>\n",
       "      <th>Fare$</th>\n",
       "    </tr>\n",
       "  </thead>\n",
       "  <tbody>\n",
       "    <tr>\n",
       "      <th>0</th>\n",
       "      <td>ID1894121772</td>\n",
       "      <td>0</td>\n",
       "      <td>2</td>\n",
       "      <td>7</td>\n",
       "      <td>-37.815019</td>\n",
       "      <td>144.945159</td>\n",
       "      <td>-37.861835</td>\n",
       "      <td>144.905716</td>\n",
       "      <td>9553.0</td>\n",
       "      <td>2018-04-01</td>\n",
       "      <td>09:46:21</td>\n",
       "      <td>3194.76</td>\n",
       "      <td>10:39:35</td>\n",
       "      <td>8.70</td>\n",
       "    </tr>\n",
       "    <tr>\n",
       "      <th>1</th>\n",
       "      <td>ID1190628672</td>\n",
       "      <td>0</td>\n",
       "      <td>9</td>\n",
       "      <td>1</td>\n",
       "      <td>-38.110916</td>\n",
       "      <td>144.654173</td>\n",
       "      <td>-37.815365</td>\n",
       "      <td>144.941289</td>\n",
       "      <td>42145.0</td>\n",
       "      <td>2018-04-17</td>\n",
       "      <td>19:30:33</td>\n",
       "      <td>10098.54</td>\n",
       "      <td>22:18:51</td>\n",
       "      <td>15.28</td>\n",
       "    </tr>\n",
       "    <tr>\n",
       "      <th>3</th>\n",
       "      <td>ID1449124863</td>\n",
       "      <td>0</td>\n",
       "      <td>5</td>\n",
       "      <td>7</td>\n",
       "      <td>-37.799751</td>\n",
       "      <td>144.935380</td>\n",
       "      <td>-37.861835</td>\n",
       "      <td>144.905716</td>\n",
       "      <td>13688.0</td>\n",
       "      <td>2018-02-03</td>\n",
       "      <td>07:45:19</td>\n",
       "      <td>4282.62</td>\n",
       "      <td>8:56:41</td>\n",
       "      <td>10.78</td>\n",
       "    </tr>\n",
       "    <tr>\n",
       "      <th>8</th>\n",
       "      <td>ID1394393315</td>\n",
       "      <td>0</td>\n",
       "      <td>4</td>\n",
       "      <td>8</td>\n",
       "      <td>-37.802362</td>\n",
       "      <td>144.991536</td>\n",
       "      <td>-37.807202</td>\n",
       "      <td>145.026637</td>\n",
       "      <td>4298.0</td>\n",
       "      <td>2018-05-09</td>\n",
       "      <td>03:20:14</td>\n",
       "      <td>1192.32</td>\n",
       "      <td>3:40:06</td>\n",
       "      <td>11.56</td>\n",
       "    </tr>\n",
       "    <tr>\n",
       "      <th>9</th>\n",
       "      <td>ID1725456391</td>\n",
       "      <td>0</td>\n",
       "      <td>7</td>\n",
       "      <td>9</td>\n",
       "      <td>-37.861835</td>\n",
       "      <td>144.905716</td>\n",
       "      <td>-38.110916</td>\n",
       "      <td>144.654173</td>\n",
       "      <td>50804.7</td>\n",
       "      <td>2018-05-06</td>\n",
       "      <td>21:58:05</td>\n",
       "      <td>13173.36</td>\n",
       "      <td>1:37:38</td>\n",
       "      <td>26.23</td>\n",
       "    </tr>\n",
       "  </tbody>\n",
       "</table>\n",
       "</div>"
      ],
      "text/plain": [
       "     Unnamed: 0  Uber Type  Origin Region  Destination Region  \\\n",
       "0  ID1894121772          0              2                   7   \n",
       "1  ID1190628672          0              9                   1   \n",
       "3  ID1449124863          0              5                   7   \n",
       "8  ID1394393315          0              4                   8   \n",
       "9  ID1725456391          0              7                   9   \n",
       "\n",
       "   Origin Latitude  Origin Longitude  Destination Latitude  \\\n",
       "0       -37.815019        144.945159            -37.861835   \n",
       "1       -38.110916        144.654173            -37.815365   \n",
       "3       -37.799751        144.935380            -37.861835   \n",
       "8       -37.802362        144.991536            -37.807202   \n",
       "9       -37.861835        144.905716            -38.110916   \n",
       "\n",
       "   Destination Longitude  Journey Distance(m) Departure Date Departure Time  \\\n",
       "0             144.905716               9553.0     2018-04-01       09:46:21   \n",
       "1             144.941289              42145.0     2018-04-17       19:30:33   \n",
       "3             144.905716              13688.0     2018-02-03       07:45:19   \n",
       "8             145.026637               4298.0     2018-05-09       03:20:14   \n",
       "9             144.654173              50804.7     2018-05-06       21:58:05   \n",
       "\n",
       "   Travel Time(s) Arrival Time  Fare$  \n",
       "0         3194.76     10:39:35   8.70  \n",
       "1        10098.54     22:18:51  15.28  \n",
       "3         4282.62      8:56:41  10.78  \n",
       "8         1192.32      3:40:06  11.56  \n",
       "9        13173.36      1:37:38  26.23  "
      ]
     },
     "execution_count": 5,
     "metadata": {},
     "output_type": "execute_result"
    }
   ],
   "source": [
    "df1[df1['Uber Type']==0].head()"
   ]
  },
  {
   "cell_type": "code",
   "execution_count": 6,
   "metadata": {},
   "outputs": [
    {
     "data": {
      "text/html": [
       "<div>\n",
       "<style scoped>\n",
       "    .dataframe tbody tr th:only-of-type {\n",
       "        vertical-align: middle;\n",
       "    }\n",
       "\n",
       "    .dataframe tbody tr th {\n",
       "        vertical-align: top;\n",
       "    }\n",
       "\n",
       "    .dataframe thead th {\n",
       "        text-align: right;\n",
       "    }\n",
       "</style>\n",
       "<table border=\"1\" class=\"dataframe\">\n",
       "  <thead>\n",
       "    <tr style=\"text-align: right;\">\n",
       "      <th></th>\n",
       "      <th>Unnamed: 0</th>\n",
       "      <th>Uber Type</th>\n",
       "      <th>Origin Region</th>\n",
       "      <th>Destination Region</th>\n",
       "      <th>Origin Latitude</th>\n",
       "      <th>Origin Longitude</th>\n",
       "      <th>Destination Latitude</th>\n",
       "      <th>Destination Longitude</th>\n",
       "      <th>Journey Distance(m)</th>\n",
       "      <th>Departure Date</th>\n",
       "      <th>Departure Time</th>\n",
       "      <th>Travel Time(s)</th>\n",
       "      <th>Arrival Time</th>\n",
       "      <th>Fare$</th>\n",
       "    </tr>\n",
       "  </thead>\n",
       "  <tbody>\n",
       "    <tr>\n",
       "      <th>2</th>\n",
       "      <td>ID3408994706</td>\n",
       "      <td>1</td>\n",
       "      <td>8</td>\n",
       "      <td>9</td>\n",
       "      <td>-37.815834</td>\n",
       "      <td>145.046450</td>\n",
       "      <td>-38.110916</td>\n",
       "      <td>144.654173</td>\n",
       "      <td>51036.4</td>\n",
       "      <td>2018-07-04</td>\n",
       "      <td>21:50:32</td>\n",
       "      <td>12681.06</td>\n",
       "      <td>1:21:53</td>\n",
       "      <td>61.93</td>\n",
       "    </tr>\n",
       "    <tr>\n",
       "      <th>6</th>\n",
       "      <td>ID3598143669</td>\n",
       "      <td>1</td>\n",
       "      <td>4</td>\n",
       "      <td>9</td>\n",
       "      <td>-37.801144</td>\n",
       "      <td>145.003680</td>\n",
       "      <td>-38.110916</td>\n",
       "      <td>144.654173</td>\n",
       "      <td>47889.7</td>\n",
       "      <td>2018-06-20</td>\n",
       "      <td>12:00:19</td>\n",
       "      <td>11598.90</td>\n",
       "      <td>15:13:37</td>\n",
       "      <td>52.19</td>\n",
       "    </tr>\n",
       "    <tr>\n",
       "      <th>10</th>\n",
       "      <td>ID3812335363</td>\n",
       "      <td>1</td>\n",
       "      <td>8</td>\n",
       "      <td>2</td>\n",
       "      <td>-37.815834</td>\n",
       "      <td>145.046450</td>\n",
       "      <td>-37.825590</td>\n",
       "      <td>144.945549</td>\n",
       "      <td>9642.0</td>\n",
       "      <td>2018-05-22</td>\n",
       "      <td>23:23:44</td>\n",
       "      <td>2765.16</td>\n",
       "      <td>0:09:49</td>\n",
       "      <td>25.44</td>\n",
       "    </tr>\n",
       "    <tr>\n",
       "      <th>11</th>\n",
       "      <td>ID3461654630</td>\n",
       "      <td>1</td>\n",
       "      <td>2</td>\n",
       "      <td>3</td>\n",
       "      <td>-37.824820</td>\n",
       "      <td>144.928267</td>\n",
       "      <td>-37.815300</td>\n",
       "      <td>144.990285</td>\n",
       "      <td>10777.0</td>\n",
       "      <td>2018-05-08</td>\n",
       "      <td>13:49:35</td>\n",
       "      <td>2675.10</td>\n",
       "      <td>14:34:10</td>\n",
       "      <td>19.36</td>\n",
       "    </tr>\n",
       "    <tr>\n",
       "      <th>15</th>\n",
       "      <td>ID3177645896</td>\n",
       "      <td>1</td>\n",
       "      <td>8</td>\n",
       "      <td>5</td>\n",
       "      <td>-38.110916</td>\n",
       "      <td>144.654173</td>\n",
       "      <td>-37.799903</td>\n",
       "      <td>144.927629</td>\n",
       "      <td>44427.0</td>\n",
       "      <td>2018-04-16</td>\n",
       "      <td>14:50:19</td>\n",
       "      <td>10637.76</td>\n",
       "      <td>17:47:36</td>\n",
       "      <td>46.76</td>\n",
       "    </tr>\n",
       "  </tbody>\n",
       "</table>\n",
       "</div>"
      ],
      "text/plain": [
       "      Unnamed: 0  Uber Type  Origin Region  Destination Region  \\\n",
       "2   ID3408994706          1              8                   9   \n",
       "6   ID3598143669          1              4                   9   \n",
       "10  ID3812335363          1              8                   2   \n",
       "11  ID3461654630          1              2                   3   \n",
       "15  ID3177645896          1              8                   5   \n",
       "\n",
       "    Origin Latitude  Origin Longitude  Destination Latitude  \\\n",
       "2        -37.815834        145.046450            -38.110916   \n",
       "6        -37.801144        145.003680            -38.110916   \n",
       "10       -37.815834        145.046450            -37.825590   \n",
       "11       -37.824820        144.928267            -37.815300   \n",
       "15       -38.110916        144.654173            -37.799903   \n",
       "\n",
       "    Destination Longitude  Journey Distance(m) Departure Date Departure Time  \\\n",
       "2              144.654173              51036.4     2018-07-04       21:50:32   \n",
       "6              144.654173              47889.7     2018-06-20       12:00:19   \n",
       "10             144.945549               9642.0     2018-05-22       23:23:44   \n",
       "11             144.990285              10777.0     2018-05-08       13:49:35   \n",
       "15             144.927629              44427.0     2018-04-16       14:50:19   \n",
       "\n",
       "    Travel Time(s) Arrival Time  Fare$  \n",
       "2         12681.06      1:21:53  61.93  \n",
       "6         11598.90     15:13:37  52.19  \n",
       "10         2765.16      0:09:49  25.44  \n",
       "11         2675.10     14:34:10  19.36  \n",
       "15        10637.76     17:47:36  46.76  "
      ]
     },
     "execution_count": 6,
     "metadata": {},
     "output_type": "execute_result"
    }
   ],
   "source": [
    "df1[df1['Uber Type']==1].head()"
   ]
  },
  {
   "cell_type": "code",
   "execution_count": 7,
   "metadata": {},
   "outputs": [
    {
     "data": {
      "text/html": [
       "<div>\n",
       "<style scoped>\n",
       "    .dataframe tbody tr th:only-of-type {\n",
       "        vertical-align: middle;\n",
       "    }\n",
       "\n",
       "    .dataframe tbody tr th {\n",
       "        vertical-align: top;\n",
       "    }\n",
       "\n",
       "    .dataframe thead th {\n",
       "        text-align: right;\n",
       "    }\n",
       "</style>\n",
       "<table border=\"1\" class=\"dataframe\">\n",
       "  <thead>\n",
       "    <tr style=\"text-align: right;\">\n",
       "      <th></th>\n",
       "      <th>Unnamed: 0</th>\n",
       "      <th>Uber Type</th>\n",
       "      <th>Origin Region</th>\n",
       "      <th>Destination Region</th>\n",
       "      <th>Origin Latitude</th>\n",
       "      <th>Origin Longitude</th>\n",
       "      <th>Destination Latitude</th>\n",
       "      <th>Destination Longitude</th>\n",
       "      <th>Journey Distance(m)</th>\n",
       "      <th>Departure Date</th>\n",
       "      <th>Departure Time</th>\n",
       "      <th>Travel Time(s)</th>\n",
       "      <th>Arrival Time</th>\n",
       "      <th>Fare$</th>\n",
       "    </tr>\n",
       "  </thead>\n",
       "  <tbody>\n",
       "    <tr>\n",
       "      <th>4</th>\n",
       "      <td>ID5138364089</td>\n",
       "      <td>2</td>\n",
       "      <td>3</td>\n",
       "      <td>7</td>\n",
       "      <td>-37.815406</td>\n",
       "      <td>144.977574</td>\n",
       "      <td>-37.861835</td>\n",
       "      <td>144.905716</td>\n",
       "      <td>8702.3</td>\n",
       "      <td>2018-07-06</td>\n",
       "      <td>20:03:27</td>\n",
       "      <td>3002.82</td>\n",
       "      <td>20:53:29</td>\n",
       "      <td>288.59</td>\n",
       "    </tr>\n",
       "    <tr>\n",
       "      <th>5</th>\n",
       "      <td>ID5337511386</td>\n",
       "      <td>2</td>\n",
       "      <td>3</td>\n",
       "      <td>5</td>\n",
       "      <td>-37.823516</td>\n",
       "      <td>144.968057</td>\n",
       "      <td>-37.809317</td>\n",
       "      <td>144.934015</td>\n",
       "      <td>4008.5</td>\n",
       "      <td>2018-03-25</td>\n",
       "      <td>12:02:32</td>\n",
       "      <td>1022.64</td>\n",
       "      <td>12:19:34</td>\n",
       "      <td>120.08</td>\n",
       "    </tr>\n",
       "    <tr>\n",
       "      <th>7</th>\n",
       "      <td>ID5551552295</td>\n",
       "      <td>2</td>\n",
       "      <td>1</td>\n",
       "      <td>3</td>\n",
       "      <td>-37.813078</td>\n",
       "      <td>144.955614</td>\n",
       "      <td>-37.814507</td>\n",
       "      <td>144.999935</td>\n",
       "      <td>4423.0</td>\n",
       "      <td>2018-07-25</td>\n",
       "      <td>22:12:05</td>\n",
       "      <td>1084.26</td>\n",
       "      <td>22:30:09</td>\n",
       "      <td>126.65</td>\n",
       "    </tr>\n",
       "    <tr>\n",
       "      <th>29</th>\n",
       "      <td>ID5450388390</td>\n",
       "      <td>2</td>\n",
       "      <td>9</td>\n",
       "      <td>6</td>\n",
       "      <td>-38.110916</td>\n",
       "      <td>144.654173</td>\n",
       "      <td>-37.787433</td>\n",
       "      <td>144.980377</td>\n",
       "      <td>47033.0</td>\n",
       "      <td>2018-04-27</td>\n",
       "      <td>09:27:58</td>\n",
       "      <td>11355.66</td>\n",
       "      <td>12:37:13</td>\n",
       "      <td>1021.45</td>\n",
       "    </tr>\n",
       "    <tr>\n",
       "      <th>31</th>\n",
       "      <td>ID5734885326</td>\n",
       "      <td>2</td>\n",
       "      <td>9</td>\n",
       "      <td>3</td>\n",
       "      <td>-38.110916</td>\n",
       "      <td>144.654173</td>\n",
       "      <td>-37.817451</td>\n",
       "      <td>144.970724</td>\n",
       "      <td>44067.0</td>\n",
       "      <td>2018-06-19</td>\n",
       "      <td>15:51:37</td>\n",
       "      <td>10617.24</td>\n",
       "      <td>18:48:34</td>\n",
       "      <td>962.55</td>\n",
       "    </tr>\n",
       "  </tbody>\n",
       "</table>\n",
       "</div>"
      ],
      "text/plain": [
       "      Unnamed: 0  Uber Type  Origin Region  Destination Region  \\\n",
       "4   ID5138364089          2              3                   7   \n",
       "5   ID5337511386          2              3                   5   \n",
       "7   ID5551552295          2              1                   3   \n",
       "29  ID5450388390          2              9                   6   \n",
       "31  ID5734885326          2              9                   3   \n",
       "\n",
       "    Origin Latitude  Origin Longitude  Destination Latitude  \\\n",
       "4        -37.815406        144.977574            -37.861835   \n",
       "5        -37.823516        144.968057            -37.809317   \n",
       "7        -37.813078        144.955614            -37.814507   \n",
       "29       -38.110916        144.654173            -37.787433   \n",
       "31       -38.110916        144.654173            -37.817451   \n",
       "\n",
       "    Destination Longitude  Journey Distance(m) Departure Date Departure Time  \\\n",
       "4              144.905716               8702.3     2018-07-06       20:03:27   \n",
       "5              144.934015               4008.5     2018-03-25       12:02:32   \n",
       "7              144.999935               4423.0     2018-07-25       22:12:05   \n",
       "29             144.980377              47033.0     2018-04-27       09:27:58   \n",
       "31             144.970724              44067.0     2018-06-19       15:51:37   \n",
       "\n",
       "    Travel Time(s) Arrival Time    Fare$  \n",
       "4          3002.82     20:53:29   288.59  \n",
       "5          1022.64     12:19:34   120.08  \n",
       "7          1084.26     22:30:09   126.65  \n",
       "29        11355.66     12:37:13  1021.45  \n",
       "31        10617.24     18:48:34   962.55  "
      ]
     },
     "execution_count": 7,
     "metadata": {},
     "output_type": "execute_result"
    }
   ],
   "source": [
    "df1[df1['Uber Type']==2].head()"
   ]
  },
  {
   "cell_type": "markdown",
   "metadata": {},
   "source": [
    "#### After the careful inspection of Uber 'Id' of  every uber type from \"29968550_dirty_data.csv\", it can be concluded that:-\n",
    "> * Uber 'Id' of 'Uber type' 0 starts with ID1 following some number \n",
    "> * Uber 'Id' of 'Uber type' 1 starts with ID3 following some number \n",
    "> * Uber 'Id' of 'Uber type' 0 starts with ID5 following some number\n"
   ]
  },
  {
   "cell_type": "markdown",
   "metadata": {},
   "source": [
    "#### Checking if there is any anomaly from the above conclusion drawn and correcting it "
   ]
  },
  {
   "cell_type": "code",
   "execution_count": 8,
   "metadata": {},
   "outputs": [
    {
     "name": "stdout",
     "output_type": "stream",
     "text": [
      "8\n"
     ]
    }
   ],
   "source": [
    "\"\"\"\n",
    "The below code will check data from every row, and verify does \"Uber type\" has the same Id format, which was concluded\n",
    "above.\n",
    "\"\"\"\n",
    "count_anomaly_in_uber_type=0\n",
    "list_of_anomaly_in_uber_type=[]\n",
    "for i in range(0,len(df1[\"Uber Type\"])):\n",
    "    if df1['Unnamed: 0'][i][2]=='1' and df1[\"Uber Type\"][i] != 0:\n",
    "        count_anomaly_in_uber_type+=1\n",
    "        list_of_anomaly_in_uber_type.append(i)\n",
    "    elif df1.iloc[i,0][2]=='3' and df1[\"Uber Type\"][i] != 1: \n",
    "        count_anomaly_in_uber_type+=1\n",
    "        list_of_anomaly_in_uber_type.append(i)\n",
    "    elif df1.iloc[i,0][2]=='5' and df1[\"Uber Type\"][i] != 2: \n",
    "        count_anomaly_in_uber_type+=1\n",
    "        list_of_anomaly_in_uber_type.append(i)\n",
    "print(count_anomaly_in_uber_type)"
   ]
  },
  {
   "cell_type": "markdown",
   "metadata": {},
   "source": [
    "* So, there are 8 anomalies in the 'Uber type', based on the pattern concluded above changing the wrong type of uber to correct type"
   ]
  },
  {
   "cell_type": "code",
   "execution_count": 9,
   "metadata": {},
   "outputs": [
    {
     "name": "stderr",
     "output_type": "stream",
     "text": [
      "/Users/aksingh/anaconda3/lib/python3.6/site-packages/ipykernel_launcher.py:8: SettingWithCopyWarning: \n",
      "A value is trying to be set on a copy of a slice from a DataFrame\n",
      "\n",
      "See the caveats in the documentation: http://pandas.pydata.org/pandas-docs/stable/indexing.html#indexing-view-versus-copy\n",
      "  \n",
      "/Users/aksingh/anaconda3/lib/python3.6/site-packages/ipykernel_launcher.py:5: SettingWithCopyWarning: \n",
      "A value is trying to be set on a copy of a slice from a DataFrame\n",
      "\n",
      "See the caveats in the documentation: http://pandas.pydata.org/pandas-docs/stable/indexing.html#indexing-view-versus-copy\n",
      "  \"\"\"\n",
      "/Users/aksingh/anaconda3/lib/python3.6/site-packages/ipykernel_launcher.py:11: SettingWithCopyWarning: \n",
      "A value is trying to be set on a copy of a slice from a DataFrame\n",
      "\n",
      "See the caveats in the documentation: http://pandas.pydata.org/pandas-docs/stable/indexing.html#indexing-view-versus-copy\n",
      "  # This is added back by InteractiveShellApp.init_path()\n"
     ]
    }
   ],
   "source": [
    "\n",
    "for i in list_of_anomaly_in_uber_type:\n",
    "    # Checking if third character in Id is 1 then compute type of uber to be 0\n",
    "    if df1['Unnamed: 0'][i][2] == '1':\n",
    "        df1['Uber Type'][i] = 0\n",
    "    # Checking if third character in Id is 3 then compute type of uber to be 1\n",
    "    elif df1['Unnamed: 0'][i][2]=='3':\n",
    "        df1['Uber Type'][i] = 1\n",
    "    # Checking if third character in Id is 5 then compute type of uber to be 2\n",
    "    elif df1['Unnamed: 0'][i][2]=='5':\n",
    "        df1['Uber Type'][i] = 2"
   ]
  },
  {
   "cell_type": "markdown",
   "metadata": {},
   "source": [
    "## Checking anomaly in date  \n",
    "\n",
    "* Departure Date column consists of date,month and year so the anomaly could be in any one of these. So, splitting the date in three different column, creating a new data frame and checking the anomaly in the columns column of new data frame."
   ]
  },
  {
   "cell_type": "code",
   "execution_count": 10,
   "metadata": {},
   "outputs": [],
   "source": [
    "#Splitting the Departure date into Year,month ,day and creating one new data frame for correctinf 'Departure date'.\n",
    "new_date = df1['Departure Date'].apply(lambda s: pd.Series({'Year': s.split('-')[0].strip(),\n",
    "                            'Month':s.split('-')[1].strip(), 'Day':s.split('-')[2].strip()}))"
   ]
  },
  {
   "cell_type": "markdown",
   "metadata": {},
   "source": [
    "#### Checking anomaly in the month of the year"
   ]
  },
  {
   "cell_type": "code",
   "execution_count": 11,
   "metadata": {},
   "outputs": [
    {
     "name": "stdout",
     "output_type": "stream",
     "text": [
      "7\n"
     ]
    }
   ],
   "source": [
    "# Since month can't exceed 12, checking for errors in month if any\n",
    "count_month_errors=0\n",
    "list_of_index_of_errors_in_month=[]\n",
    "for i in range(0,len(df1[\"Unnamed: 0\"])):\n",
    "    if((int(new_date['Month'][i])>12)):\n",
    "        list_of_index_of_errors_in_month.append(i)\n",
    "        count_month_errors+=1\n",
    "print(count_month_errors) "
   ]
  },
  {
   "cell_type": "code",
   "execution_count": 12,
   "metadata": {},
   "outputs": [
    {
     "name": "stdout",
     "output_type": "stream",
     "text": [
      "24 06\n",
      "21 01\n",
      "25 01\n",
      "27 05\n",
      "23 06\n",
      "14 03\n",
      "18 01\n"
     ]
    }
   ],
   "source": [
    "# Printing the incorrect month\n",
    "for i in list_of_index_of_errors_in_month:\n",
    "    print(new_date['Month'][i],new_date['Day'][i])"
   ]
  },
  {
   "cell_type": "markdown",
   "metadata": {},
   "source": [
    "* Since the value of count_month_errors is 7, so there are 7 months whose value is greater than 12, and after analysing the value of these incorrect month, and looking at the value of the corresponding day of these errors. I'm exchanging the day and month value of these incorrect months"
   ]
  },
  {
   "cell_type": "code",
   "execution_count": 13,
   "metadata": {},
   "outputs": [],
   "source": [
    "# Swapping the value of month to day and day to months if any anomaly found.\n",
    "for i in range(0,len(df1[\"Unnamed: 0\"])):\n",
    "    # checking condition if month value is exceeding 12\n",
    "      if((int(new_date['Month'][i])>12)):\n",
    "        x=new_date['Month'][i]\n",
    "        new_date['Month'][i]=new_date['Day'][i]\n",
    "        new_date['Day'][i]=x"
   ]
  },
  {
   "cell_type": "markdown",
   "metadata": {},
   "source": [
    "#### Checking for errors in feb month whether it has got more than 28 days"
   ]
  },
  {
   "cell_type": "code",
   "execution_count": 14,
   "metadata": {},
   "outputs": [
    {
     "data": {
      "text/plain": [
       "3"
      ]
     },
     "execution_count": 14,
     "metadata": {},
     "output_type": "execute_result"
    }
   ],
   "source": [
    "#Checking for errors for the month of feb that whether it has more than 28 days or not\n",
    "count_feb=0\n",
    "list_of_index_of_errors_in_month_feb=[]\n",
    "for i in range(0,len(df1[\"Unnamed: 0\"])):\n",
    "    #Condition that whether feb has more than 28 days\n",
    "    if new_date.iloc[i,1] in ['02'] and new_date.iloc[i,2] in ['29','30','31'] :\n",
    "        list_of_index_of_errors_in_month_feb.append(i)\n",
    "        count_feb+=1\n",
    "count_feb"
   ]
  },
  {
   "cell_type": "code",
   "execution_count": 15,
   "metadata": {},
   "outputs": [
    {
     "name": "stdout",
     "output_type": "stream",
     "text": [
      "02 30\n",
      "02 30\n",
      "02 30\n"
     ]
    }
   ],
   "source": [
    "# Printing the incorrect feb month\n",
    "for i in list_of_index_of_errors_in_month_feb:\n",
    "    print(new_date['Month'][i],new_date['Day'][i])"
   ]
  },
  {
   "cell_type": "markdown",
   "metadata": {},
   "source": [
    "* So, there are 3 incorrect feb month date\n",
    "* Replacing the month value with 3 March if Feb has got more than 28 days\n",
    "* Replacing the month or moving the value of month to the next and shifting the date to the 1st of that march."
   ]
  },
  {
   "cell_type": "code",
   "execution_count": 16,
   "metadata": {},
   "outputs": [],
   "source": [
    "#Correcting the errors for the feb month\n",
    "for i in range(0,len(df1[\"Unnamed: 0\"])):\n",
    "    #Condition that a month got more than 28 days\n",
    "     if new_date['Month'][i] in ['02'] and int(new_date['Day'][i])>28:\n",
    "        new_date['Month'][i]='0'+str(int(new_date['Month'][i])+1)\n",
    "        new_date['Day'][i]='01'"
   ]
  },
  {
   "cell_type": "markdown",
   "metadata": {},
   "source": [
    "#### Checking in months whose date value cann't exceed more than 30\n",
    "\n",
    "* April, June, september and november cann't have more than 30 days so checking that whether any of this month got more than 30 and corrcting it by moving the month value to next month and date to the 1st of that month."
   ]
  },
  {
   "cell_type": "code",
   "execution_count": 17,
   "metadata": {},
   "outputs": [
    {
     "data": {
      "text/plain": [
       "7"
      ]
     },
     "execution_count": 17,
     "metadata": {},
     "output_type": "execute_result"
    }
   ],
   "source": [
    "#Whether the april ,june ,september and november got 31 days or not. \n",
    "count_more_than_30_days = 0\n",
    "list_of_index_of_errors_in_month_exceeding_30=[]\n",
    "for i in range (0,len(df1[\"Unnamed: 0\"])):\n",
    "    #Condition for months which got only 30 days .\n",
    "     if new_date['Month'][i] in ['04','06','09','11'] and new_date.iloc[i,2] in['31']:\n",
    "        count_more_than_30_days+=1\n",
    "        list_of_index_of_errors_in_month_exceeding_30.append(i)\n",
    "count_more_than_30_days"
   ]
  },
  {
   "cell_type": "code",
   "execution_count": 18,
   "metadata": {},
   "outputs": [
    {
     "name": "stdout",
     "output_type": "stream",
     "text": [
      "04 31\n",
      "04 31\n",
      "04 31\n",
      "04 31\n",
      "06 31\n",
      "06 31\n",
      "06 31\n"
     ]
    }
   ],
   "source": [
    "# Printing the incorrect feb month\n",
    "for i in list_of_index_of_errors_in_month_exceeding_30:\n",
    "    print(new_date['Month'][i],new_date['Day'][i])"
   ]
  },
  {
   "cell_type": "markdown",
   "metadata": {},
   "source": [
    "* Since the value of count_more_than_30_days is 7, so there are 7 anomalies in the month date exceeding 30. Now changing the anomaly in the month and changing the value of the month and date to the next month and 1st day of the month"
   ]
  },
  {
   "cell_type": "code",
   "execution_count": 19,
   "metadata": {},
   "outputs": [],
   "source": [
    "#Changing the month to the next month and giving it date of 1st of next month\n",
    "for i in range (0,len(df1[\"Unnamed: 0\"])):\n",
    "    #Condition for checking that months which got 31 days\n",
    "     if new_date['Month'][i] in ['04','06','09','11'] and new_date.iloc[i,2]=='31':\n",
    "        new_date['Month'][i]='0' + str(int(new_date['Month'][i])+1)\n",
    "        new_date['Day'][i]='01'"
   ]
  },
  {
   "cell_type": "markdown",
   "metadata": {},
   "source": [
    "#### Updating the data data frame df1 of  \"29968550_dirty_data.csv\" to updated date."
   ]
  },
  {
   "cell_type": "code",
   "execution_count": 20,
   "metadata": {},
   "outputs": [],
   "source": [
    "# Updating the date in the df1\n",
    "df1['Departure Date'] = new_date['Year']+'-'+new_date['Month']+'-'+new_date['Day']"
   ]
  },
  {
   "cell_type": "markdown",
   "metadata": {},
   "source": [
    "## Checking anomaly in Origin latitude of \"29968550_dirty_data.csv\""
   ]
  },
  {
   "cell_type": "code",
   "execution_count": 21,
   "metadata": {},
   "outputs": [
    {
     "name": "stdout",
     "output_type": "stream",
     "text": [
      "count    313.000000\n",
      "mean     -36.636988\n",
      "std        9.500622\n",
      "min      -38.110916\n",
      "25%      -37.821044\n",
      "50%      -37.813762\n",
      "75%      -37.805128\n",
      "max       37.815672\n",
      "Name: Origin Latitude, dtype: float64\n",
      "AxesSubplot(0.125,0.125;0.775x0.755)\n"
     ]
    },
    {
     "data": {
      "image/png": "[encoded data removed]",
      "text/plain": [
       "<Figure size 432x288 with 1 Axes>"
      ]
     },
     "metadata": {},
     "output_type": "display_data"
    }
   ],
   "source": [
    "print(df1['Origin Latitude'].describe())\n",
    "print(df1['Origin Latitude'].plot())"
   ]
  },
  {
   "cell_type": "markdown",
   "metadata": {},
   "source": [
    "* After examining the 'Origin latitude' statistics and plot, except few all other 'Origin latitude' are negative.\n",
    "* After plotting the \"29968550_dirty_data.csv\" in tableau, there are few latitude whose value is positive.\n",
    "* So, it can be concluded that all the 'Origin latitude' values are negative and there are few value of 'Origin latitude' which is positive.\n",
    "* So, converting those positive values to negative "
   ]
  },
  {
   "cell_type": "code",
   "execution_count": 22,
   "metadata": {},
   "outputs": [
    {
     "data": {
      "text/plain": [
       "5"
      ]
     },
     "execution_count": 22,
     "metadata": {},
     "output_type": "execute_result"
    }
   ],
   "source": [
    "# Check that whether the origin latitude has got some positive value.\n",
    "count_origin_positive = 0\n",
    "for i in range(0,len(df1[\"Unnamed: 0\"])):\n",
    "    if df1[\"Origin Latitude\"][i]>0:\n",
    "        count_origin_positive+=1 \n",
    "count_origin_positive"
   ]
  },
  {
   "cell_type": "markdown",
   "metadata": {},
   "source": [
    "* So there are 5 Origin Latitude which in incorrect, that need to be converted to negative.\n",
    "* Below code chunk will convert the positive Origin Latitude to negative"
   ]
  },
  {
   "cell_type": "code",
   "execution_count": 23,
   "metadata": {},
   "outputs": [
    {
     "name": "stderr",
     "output_type": "stream",
     "text": [
      "/Users/aksingh/anaconda3/lib/python3.6/site-packages/ipykernel_launcher.py:5: SettingWithCopyWarning: \n",
      "A value is trying to be set on a copy of a slice from a DataFrame\n",
      "\n",
      "See the caveats in the documentation: http://pandas.pydata.org/pandas-docs/stable/indexing.html#indexing-view-versus-copy\n",
      "  \"\"\"\n"
     ]
    }
   ],
   "source": [
    "for i in range(0,len(df1[\"Unnamed: 0\"])):\n",
    "    # Checking if Destination Latitude is Positive \n",
    "    if df1[\"Origin Latitude\"][i]>0:\n",
    "        # If positive Destination Latitude is found, converting it to negative\n",
    "        df1[\"Origin Latitude\"][i]=(df1[\"Origin Latitude\"][i]*-1)  "
   ]
  },
  {
   "cell_type": "markdown",
   "metadata": {},
   "source": [
    "## Checking anomaly in Origin longitude of \"29968550_dirty_data.csv\""
   ]
  },
  {
   "cell_type": "code",
   "execution_count": 24,
   "metadata": {},
   "outputs": [
    {
     "name": "stdout",
     "output_type": "stream",
     "text": [
      "count    313.000000\n",
      "mean     144.940491\n",
      "std        0.105835\n",
      "min      144.654173\n",
      "25%      144.932506\n",
      "50%      144.973257\n",
      "75%      144.998124\n",
      "max      145.046450\n",
      "Name: Origin Longitude, dtype: float64\n",
      "AxesSubplot(0.125,0.125;0.775x0.755)\n"
     ]
    },
    {
     "data": {
      "image/png": "[encoded data removed]",
      "text/plain": [
       "<Figure size 432x288 with 1 Axes>"
      ]
     },
     "metadata": {},
     "output_type": "display_data"
    }
   ],
   "source": [
    "print(df1['Origin Longitude'].describe())\n",
    "print(df1['Origin Longitude'].plot())"
   ]
  },
  {
   "cell_type": "code",
   "execution_count": 25,
   "metadata": {},
   "outputs": [
    {
     "name": "stdout",
     "output_type": "stream",
     "text": [
      "0\n"
     ]
    }
   ],
   "source": [
    "count_origin_longitude = 0\n",
    "for i in range(0,len(df1[\"Unnamed: 0\"])):\n",
    "    if df1[\"Origin Latitude\"][i]>0:\n",
    "        count_origin_longitude+=1 \n",
    "print(count_origin_longitude)"
   ]
  },
  {
   "cell_type": "markdown",
   "metadata": {},
   "source": [
    "* Since there is no anomaly in the 'Origin longitude' so, no change is required as 'Origin latitude is in format'"
   ]
  },
  {
   "cell_type": "markdown",
   "metadata": {},
   "source": [
    "## Checking anomaly in destination latitude of \"29968550_dirty_data.csv\""
   ]
  },
  {
   "cell_type": "code",
   "execution_count": 26,
   "metadata": {},
   "outputs": [
    {
     "name": "stdout",
     "output_type": "stream",
     "text": [
      "count    313.000000\n",
      "mean     -36.641532\n",
      "std        9.509319\n",
      "min      -38.110916\n",
      "25%      -37.824904\n",
      "50%      -37.815236\n",
      "75%      -37.807202\n",
      "max       38.110916\n",
      "Name: Destination Latitude, dtype: float64\n",
      "AxesSubplot(0.125,0.125;0.775x0.755)\n"
     ]
    },
    {
     "data": {
      "image/png": "[encoded data removed]",
      "text/plain": [
       "<Figure size 432x288 with 1 Axes>"
      ]
     },
     "metadata": {},
     "output_type": "display_data"
    }
   ],
   "source": [
    "print(df1['Destination Latitude'].describe())\n",
    "print(df1['Destination Latitude'].plot())"
   ]
  },
  {
   "cell_type": "markdown",
   "metadata": {},
   "source": [
    "\n",
    "\n",
    "* After examining the 'Destination latitude' statistics and plot, except few all other 'Origin region' are negative.\n",
    "* After plotting the \"29968550_dirty_data.csv\" in tableau, there are few whose value is positive.\n",
    "* So, it can be concluded that all the 'Destination latitude' values are negative and there are few value of 'Destination latitude' which is positive.\n",
    "* So, converting those positive values to negative "
   ]
  },
  {
   "cell_type": "code",
   "execution_count": 27,
   "metadata": {},
   "outputs": [
    {
     "data": {
      "text/plain": [
       "5"
      ]
     },
     "execution_count": 27,
     "metadata": {},
     "output_type": "execute_result"
    }
   ],
   "source": [
    "# Check that whether the origin latitude has got some positive value.\n",
    "count_destination_positive = 0\n",
    "for i in range(0,len(df1[\"Unnamed: 0\"])):\n",
    "    if df1[\"Destination Latitude\"][i]>0:\n",
    "        count_destination_positive+=1 \n",
    "count_destination_positive"
   ]
  },
  {
   "cell_type": "markdown",
   "metadata": {},
   "source": [
    "* So there are 5 Destination Latitude which in incorrect, these need to be converted to negative.\n",
    "* Below code chunk will convert the positive Origin Latitude to negative"
   ]
  },
  {
   "cell_type": "code",
   "execution_count": 28,
   "metadata": {},
   "outputs": [
    {
     "name": "stderr",
     "output_type": "stream",
     "text": [
      "/Users/aksingh/anaconda3/lib/python3.6/site-packages/ipykernel_launcher.py:5: SettingWithCopyWarning: \n",
      "A value is trying to be set on a copy of a slice from a DataFrame\n",
      "\n",
      "See the caveats in the documentation: http://pandas.pydata.org/pandas-docs/stable/indexing.html#indexing-view-versus-copy\n",
      "  \"\"\"\n"
     ]
    }
   ],
   "source": [
    "for i in range(0,len(df1[\"Unnamed: 0\"])):\n",
    "    # Checking if Destination Latitude is Positive\n",
    "    if df1[\"Destination Latitude\"][i]>0:\n",
    "        # If positive Destination Latitude is found, converting it to negative \n",
    "        df1[\"Destination Latitude\"][i]=(df1[\"Destination Latitude\"][i]*-1)  "
   ]
  },
  {
   "cell_type": "markdown",
   "metadata": {},
   "source": [
    " ## Examining anomaly in the 'Destination Longitude'"
   ]
  },
  {
   "cell_type": "code",
   "execution_count": 29,
   "metadata": {},
   "outputs": [
    {
     "name": "stdout",
     "output_type": "stream",
     "text": [
      "count    313.000000\n",
      "mean     144.930358\n",
      "std        0.108727\n",
      "min      144.654173\n",
      "25%      144.917442\n",
      "50%      144.951793\n",
      "75%      144.995686\n",
      "max      145.046450\n",
      "Name: Destination Longitude, dtype: float64\n",
      "AxesSubplot(0.125,0.125;0.775x0.755)\n"
     ]
    },
    {
     "data": {
      "image/png": "[encoded data removed]",
      "text/plain": [
       "<Figure size 432x288 with 1 Axes>"
      ]
     },
     "metadata": {},
     "output_type": "display_data"
    }
   ],
   "source": [
    "print(df1['Destination Longitude'].describe())\n",
    "print(df1['Destination Longitude'].plot())"
   ]
  },
  {
   "cell_type": "code",
   "execution_count": 30,
   "metadata": {},
   "outputs": [
    {
     "name": "stdout",
     "output_type": "stream",
     "text": [
      "0\n"
     ]
    }
   ],
   "source": [
    "# Checking if there is any anomaly in the 'Destination Longitude'\n",
    "count_error_destination_longitude = 0\n",
    "for i in range(0,len(df1[\"Unnamed: 0\"])):\n",
    "    if df1[\"Origin Latitude\"][i]>0:\n",
    "        count_error_destination_longitude+=1 \n",
    "print(count_error_destination_longitude)"
   ]
  },
  {
   "cell_type": "markdown",
   "metadata": {},
   "source": [
    "* Since the count_error_destination_longitude  value is zero, so there is no anomaly in 'Destination Longitude', so making no change."
   ]
  },
  {
   "cell_type": "markdown",
   "metadata": {},
   "source": [
    "## Examining anomaly in the 'Origin region'"
   ]
  },
  {
   "cell_type": "markdown",
   "metadata": {},
   "source": [
    "#### Graph of clustered longitude and latitude of destination, to visualize that is there any anomaly in the region."
   ]
  },
  {
   "cell_type": "code",
   "execution_count": 31,
   "metadata": {},
   "outputs": [
    {
     "data": {
      "text/plain": [
       "<matplotlib.axes._subplots.AxesSubplot at 0x110bf6c88>"
      ]
     },
     "execution_count": 31,
     "metadata": {},
     "output_type": "execute_result"
    },
    {
     "data": {
      "image/png": "[encoded data removed]",
      "text/plain": [
       "<Figure size 1800x3600 with 2 Axes>"
      ]
     },
     "metadata": {},
     "output_type": "display_data"
    }
   ],
   "source": [
    "df1.plot.scatter(x='Destination Longitude',y='Destination Latitude' ,figsize=(25,50),c = df1['Destination Region'].values,colormap='viridis')"
   ]
  },
  {
   "cell_type": "markdown",
   "metadata": {},
   "source": [
    "* So, from the graph it can be observed that the there are many destination latitude and longitude which is not in their clustered region.\n",
    "* These regions needs to be corrected\n",
    "#### Using KNN to predict the nearest neighbour value.\n",
    "* I'm using the k Nearest Neighbours clustering algorithm to determine the given regions are correctly determined "
   ]
  },
  {
   "cell_type": "code",
   "execution_count": 32,
   "metadata": {},
   "outputs": [
    {
     "name": "stdout",
     "output_type": "stream",
     "text": [
      "corrections in Destination Region 20\n"
     ]
    }
   ],
   "source": [
    "f1=df1[[\"Destination Latitude\",\"Destination Longitude\"]] # f1 has all the destinationLatitude and destination Longitude\n",
    "f2=df1[\"Destination Region\"] # f2 has all the destination Region\n",
    "f2.values.reshape(-1,1) \n",
    "cl = KNeighborsClassifier()\n",
    "cl.fit(f1,f2)\n",
    "p = cl.predict(df1[[\"Destination Latitude\",\"Destination Longitude\"]])\n",
    "cw=0 # To keep count of how many destination region were incorrect.\n",
    "for i in df1.index:\n",
    "    # Comparision of the predicted region with the region given in data set.\n",
    "    if p[i] != df1.iloc[i]['Destination Region']:\n",
    "        # If the region is not equal then changing the region value to the predicted region\n",
    "        df1.at[i,\"Destination Region\"]= p[i]\n",
    "        # Incrementing count if any change occour.\n",
    "        cw+=1\n",
    "print(\"corrections in Destination Region\",cw)"
   ]
  },
  {
   "cell_type": "code",
   "execution_count": 33,
   "metadata": {},
   "outputs": [
    {
     "name": "stdout",
     "output_type": "stream",
     "text": [
      "corrections in Destination Region 3\n"
     ]
    }
   ],
   "source": [
    "f1=df1[[\"Destination Latitude\",\"Destination Longitude\"]] # f1 has all the destinationLatitude and destination Longitude\n",
    "f2=df1[\"Destination Region\"] # f2 has all the destination Region\n",
    "f2.values.reshape(-1,1) \n",
    "cl = KNeighborsClassifier()\n",
    "cl.fit(f1,f2)\n",
    "p = cl.predict(df1[[\"Destination Latitude\",\"Destination Longitude\"]])\n",
    "cw=0 # To keep count of how many destination region were incorrect.\n",
    "for i in df1.index:\n",
    "    # Comparision of the predicted region with the region given in data set.\n",
    "    if p[i] != df1.iloc[i]['Destination Region']:\n",
    "        # If the region is not equal then changing the region value to the predicted region\n",
    "        df1.at[i,\"Destination Region\"]= p[i]\n",
    "        # Incrementing count if any change occour.\n",
    "        cw+=1\n",
    "print(\"corrections in Destination Region\",cw)"
   ]
  },
  {
   "cell_type": "code",
   "execution_count": 34,
   "metadata": {},
   "outputs": [
    {
     "name": "stdout",
     "output_type": "stream",
     "text": [
      "corrections in Destination Region 1\n"
     ]
    }
   ],
   "source": [
    "f1=df1[[\"Destination Latitude\",\"Destination Longitude\"]] # f1 has all the destinationLatitude and destination Longitude\n",
    "f2=df1[\"Destination Region\"] # f2 has all the destination Region\n",
    "f2.values.reshape(-1,1) \n",
    "cl = KNeighborsClassifier()\n",
    "cl.fit(f1,f2)\n",
    "p = cl.predict(df1[[\"Destination Latitude\",\"Destination Longitude\"]])\n",
    "cw=0 # To keep count of how many destination region were incorrect.\n",
    "for i in df1.index:\n",
    "    # Comparision of the predicted region with the region given in data set.\n",
    "    if p[i] != df1.iloc[i]['Destination Region']:\n",
    "        # If the region is not equal then changing the region value to the predicted region\n",
    "        df1.at[i,\"Destination Region\"]= p[i]\n",
    "        # Incrementing count if any change occour.\n",
    "        cw+=1\n",
    "print(\"corrections in Destination Region\",cw)"
   ]
  },
  {
   "cell_type": "code",
   "execution_count": 35,
   "metadata": {},
   "outputs": [
    {
     "name": "stdout",
     "output_type": "stream",
     "text": [
      "corrections in Destination Region 0\n"
     ]
    }
   ],
   "source": [
    "f1=df1[[\"Destination Latitude\",\"Destination Longitude\"]] # f1 has all the destinationLatitude and destination Longitude\n",
    "f2=df1[\"Destination Region\"] # f2 has all the destination Region\n",
    "f2.values.reshape(-1,1) \n",
    "cl = KNeighborsClassifier()\n",
    "cl.fit(f1,f2)\n",
    "p = cl.predict(df1[[\"Destination Latitude\",\"Destination Longitude\"]])\n",
    "cw=0 # To keep count of how many destination region were incorrect.\n",
    "for i in df1.index:\n",
    "    # Comparision of the predicted region with the region given in data set.\n",
    "    if p[i] != df1.iloc[i]['Destination Region']:\n",
    "        # If the region is not equal then changing the region value to the predicted region\n",
    "        df1.at[i,\"Destination Region\"]= p[i]\n",
    "        # Incrementing count if any change occour.\n",
    "        cw+=1\n",
    "print(\"corrections in Destination Region\",cw)"
   ]
  },
  {
   "cell_type": "markdown",
   "metadata": {},
   "source": [
    "* So, there were 20 destination region which was not in at their correct region "
   ]
  },
  {
   "cell_type": "markdown",
   "metadata": {},
   "source": [
    "## Examining anomaly in the 'Origin Region'"
   ]
  },
  {
   "cell_type": "markdown",
   "metadata": {},
   "source": [
    "#### Graph of clustered longitude and latitude of origin, to visualize that is there any anomaly in the region."
   ]
  },
  {
   "cell_type": "code",
   "execution_count": 36,
   "metadata": {},
   "outputs": [
    {
     "data": {
      "text/plain": [
       "<matplotlib.axes._subplots.AxesSubplot at 0x11123feb8>"
      ]
     },
     "execution_count": 36,
     "metadata": {},
     "output_type": "execute_result"
    },
    {
     "data": {
      "image/png": "[encoded data removed]",
      "text/plain": [
       "<Figure size 1800x5040 with 2 Axes>"
      ]
     },
     "metadata": {},
     "output_type": "display_data"
    }
   ],
   "source": [
    "df1.plot.scatter(x='Origin Longitude',y='Origin Latitude' ,figsize=(25,70),c = df1['Origin Region'].values,colormap='viridis')"
   ]
  },
  {
   "cell_type": "markdown",
   "metadata": {},
   "source": [
    "* So, from the graph it can be seen that the there are many origin latitude and longitude which is not in their clustered region.\n",
    "* These regions needs to be corrected\n",
    "#### Using KNN to predict the nearest neighbour value.\n",
    "* I'm using the k Nearest Neighbours clustering algorithm to determine the given regions are correctly determined "
   ]
  },
  {
   "cell_type": "code",
   "execution_count": 37,
   "metadata": {},
   "outputs": [
    {
     "name": "stdout",
     "output_type": "stream",
     "text": [
      "corrections in Origin Region 19\n"
     ]
    }
   ],
   "source": [
    "f1=df1[[\"Origin Latitude\",\"Origin Longitude\"]] # f1 has all the Origin Latitude and Origin Longitude\n",
    "f2=df1[\"Origin Region\"] # f2 has all the Origin Region\n",
    "f2.values.reshape(-1,1) \n",
    "cl = KNeighborsClassifier()\n",
    "cl.fit(f1,f2)\n",
    "p = cl.predict(df1[[\"Origin Latitude\",\"Origin Longitude\"]])\n",
    "cw=0 # To keep count of how many origin region were incorrect.\n",
    "for i in df1.index:\n",
    "    # Comparision of the predicted region with the region given in data set.\n",
    "    if p[i] != df1.iloc[i]['Origin Region']:\n",
    "        # If the region is not equal then changing the region value to the predicted region\n",
    "        df1.at[i,\"Origin Region\"]= p[i]\n",
    "        # Incrementing count if any change occour.\n",
    "        cw+=1\n",
    "print(\"corrections in Origin Region\",cw)"
   ]
  },
  {
   "cell_type": "code",
   "execution_count": 38,
   "metadata": {},
   "outputs": [
    {
     "name": "stdout",
     "output_type": "stream",
     "text": [
      "corrections in Origin Region 1\n"
     ]
    }
   ],
   "source": [
    "f1=df1[[\"Origin Latitude\",\"Origin Longitude\"]] # f1 has all the Origin Latitude and Origin Longitude\n",
    "f2=df1[\"Origin Region\"] # f2 has all the Origin Region\n",
    "f2.values.reshape(-1,1) \n",
    "cl = KNeighborsClassifier()\n",
    "cl.fit(f1,f2)\n",
    "p = cl.predict(df1[[\"Origin Latitude\",\"Origin Longitude\"]])\n",
    "cw=0 # To keep count of how many origin region were incorrect.\n",
    "for i in df1.index:\n",
    "    # Comparision of the predicted region with the region given in data set.\n",
    "    if p[i] != df1.iloc[i]['Origin Region']:\n",
    "        # If the region is not equal then changing the region value to the predicted region\n",
    "        df1.at[i,\"Origin Region\"]= p[i]\n",
    "        # Incrementing count if any change occour.\n",
    "        cw+=1\n",
    "print(\"corrections in Origin Region\",cw)"
   ]
  },
  {
   "cell_type": "code",
   "execution_count": 39,
   "metadata": {},
   "outputs": [
    {
     "name": "stdout",
     "output_type": "stream",
     "text": [
      "corrections in Origin Region 0\n"
     ]
    }
   ],
   "source": [
    "f1=df1[[\"Origin Latitude\",\"Origin Longitude\"]] # f1 has all the Origin Latitude and Origin Longitude\n",
    "f2=df1[\"Origin Region\"] # f2 has all the Origin Region\n",
    "f2.values.reshape(-1,1) \n",
    "cl = KNeighborsClassifier()\n",
    "cl.fit(f1,f2)\n",
    "p = cl.predict(df1[[\"Origin Latitude\",\"Origin Longitude\"]])\n",
    "cw=0 # To keep count of how many origin region were incorrect.\n",
    "for i in df1.index:\n",
    "    # Comparision of the predicted region with the region given in data set.\n",
    "    if p[i] != df1.iloc[i]['Origin Region']:\n",
    "        # If the region is not equal then changing the region value to the predicted region\n",
    "        df1.at[i,\"Origin Region\"]= p[i]\n",
    "        # Incrementing count if any change occour.\n",
    "        cw+=1\n",
    "print(\"corrections in Origin Region\",cw)"
   ]
  },
  {
   "cell_type": "markdown",
   "metadata": {},
   "source": [
    "* So, there were 19 origin region which was not in at their correct region "
   ]
  },
  {
   "cell_type": "markdown",
   "metadata": {},
   "source": [
    "## Examining anomaly in the Journey Ditsance(m) "
   ]
  },
  {
   "cell_type": "markdown",
   "metadata": {},
   "source": [
    "* Creating a grapgh from networkx package of pyton from the edges given in the data set."
   ]
  },
  {
   "cell_type": "code",
   "execution_count": 40,
   "metadata": {},
   "outputs": [],
   "source": [
    "G = nx.from_pandas_edgelist(df4, 'u', 'v', ['distance(m)']) # Graph of nodes from df4 = edge.csv"
   ]
  },
  {
   "cell_type": "code",
   "execution_count": 41,
   "metadata": {},
   "outputs": [],
   "source": [
    "# source_node has the nodes id for Origin Latitude and Origin Longitude in df1\n",
    "# Merging df1 and df5 to get the origin node\n",
    "source_node = pd.merge(df1,df5,left_on = ['Origin Latitude','Origin Longitude'],right_on = ['lat','lon'],how='left')\n",
    "# Renaming source_node columns 'Unnamed: 0' to u\n",
    "source_node.rename(columns={\"Unnamed: 0_y\":\"u\"},inplace=True)\n",
    "# destination_node has the nodes id for Destination Latitude and Destination Longitude in dirty_data.csv which is df1\n",
    "# Merging df1 and df5 to get the destination node\n",
    "destination_node = pd.merge(df1,df5,left_on = ['Destination Latitude','Destination Longitude'],right_on = ['lat','lon'],how='left')\n",
    "# Renaming source_node columns 'Unnamed: 0' to u\n",
    "destination_node.rename(columns={\"Unnamed: 0_y\":\"v\"},inplace=True)"
   ]
  },
  {
   "cell_type": "code",
   "execution_count": 42,
   "metadata": {},
   "outputs": [
    {
     "name": "stdout",
     "output_type": "stream",
     "text": [
      "[44, 45]\n"
     ]
    }
   ],
   "source": [
    "\"\"\"\n",
    "There are some rows in destination_node which has more than one node id for one 'Destination Latitude' and '\n",
    "Destination Longitude'.\n",
    "It was emailed by our lecturer to keep the first record, delete the other record. So, below code will find out the \n",
    "destination_node which has more than one node id for one 'Destination Latitude' and 'Destination Longitude' and keep \n",
    "the row id in the list indexes.\n",
    "\"\"\"\n",
    "indexes=[]\n",
    "for i in range(len(destination_node)):\n",
    "    for j in range(len(destination_node)):\n",
    "        if (destination_node.iloc[i,6],destination_node.iloc[i,7])==(destination_node.iloc[j,6],destination_node.iloc[j,7]) and destination_node.iloc[i,14]!=destination_node.iloc[j,14] and i!=j:\n",
    "            indexes.append(j)\n",
    "inx=set(indexes)\n",
    "inx=list(inx)\n",
    "inx=inx[1:]\n",
    "print(inx)\n",
    "# dropping the destination_node in indexes list\n",
    "destination_node.drop(destination_node.index[inx], inplace=True)\n",
    "# Resetting the index of destination_node\n",
    "destination_node.reset_index(inplace=True)\n",
    "# Dropping the extra column 'index' from destination_node\n",
    "destination_node.drop(columns=[\"index\"],inplace=True)"
   ]
  },
  {
   "cell_type": "code",
   "execution_count": 43,
   "metadata": {},
   "outputs": [],
   "source": [
    "distance_list = [] # distance_list has the shortest distance of every start and end node.\n",
    "for i in range(len(df1)):\n",
    "    distance, path = nx.bidirectional_dijkstra(G,source=source_node['u'][i], target=destination_node['v'][i], weight = 'distance(m)')\n",
    "    distance_list.append(distance)"
   ]
  },
  {
   "cell_type": "code",
   "execution_count": 44,
   "metadata": {},
   "outputs": [
    {
     "name": "stdout",
     "output_type": "stream",
     "text": [
      "5\n"
     ]
    }
   ],
   "source": [
    "# To check number of rows that has different distance than the calculated shortest distance\n",
    "count_index_of_different_distance = 0 \n",
    "# List to store the distance that is different from calculated shortest distance\n",
    "list_of_index_different_distance = []\n",
    "for i in range(len(df1)):\n",
    "    if distance_list[i] != df1['Journey Distance(m)'][i]:\n",
    "        count_index_of_different_distance+=1\n",
    "        list_of_index_different_distance.append(i)\n",
    "print(count_index_of_different_distance)"
   ]
  },
  {
   "cell_type": "markdown",
   "metadata": {},
   "source": [
    "* So, there are 5  'Journey Distance(m)' in dirty_data.csv which was not the shortest, substituting those 5 values of df1 with the calculated shortest distance."
   ]
  },
  {
   "cell_type": "code",
   "execution_count": 45,
   "metadata": {},
   "outputs": [
    {
     "name": "stderr",
     "output_type": "stream",
     "text": [
      "/Users/aksingh/anaconda3/lib/python3.6/site-packages/ipykernel_launcher.py:3: SettingWithCopyWarning: \n",
      "A value is trying to be set on a copy of a slice from a DataFrame\n",
      "\n",
      "See the caveats in the documentation: http://pandas.pydata.org/pandas-docs/stable/indexing.html#indexing-view-versus-copy\n",
      "  This is separate from the ipykernel package so we can avoid doing imports until\n"
     ]
    }
   ],
   "source": [
    "# Changing the shortest distance in df1 \n",
    "for i in list_of_index_different_distance:\n",
    "    df1['Journey Distance(m)'][i] = distance_list[i]"
   ]
  },
  {
   "cell_type": "markdown",
   "metadata": {},
   "source": [
    "\n",
    "## Examining anomaly in 'Travel time' , 'Departure Time', 'Arrival time'  "
   ]
  },
  {
   "cell_type": "markdown",
   "metadata": {},
   "source": [
    "\n",
    "#### Examing if any departing time starts after the Arrival time"
   ]
  },
  {
   "cell_type": "code",
   "execution_count": 46,
   "metadata": {},
   "outputs": [
    {
     "name": "stdout",
     "output_type": "stream",
     "text": [
      "In the below cases Departure time is higher than Arrival time\n",
      "Departure Time 9:24:13 Arrival Time 08:34:25\n",
      "Departure Time 6:24:24 Arrival Time 03:26:46\n",
      "Departure Time 22:26:09 Arrival Time 19:19:10\n",
      "Departure Time 10:30:08 Arrival Time 09:40:59\n",
      "Departure Time 18:49:02 Arrival Time 18:26:29\n",
      "Departure Time 9:45:19 Arrival Time 09:26:42\n",
      "Departure Time 17:44:09 Arrival Time 17:12:01\n",
      "Departure Time 8:06:27 Arrival Time 07:27:10\n",
      "Departure Time 10:49:28 Arrival Time 07:53:18\n",
      "Departure Time 8:34:49 Arrival Time 04:54:45\n"
     ]
    }
   ],
   "source": [
    "# This code underneath will check wether 'Departure Time' starts after 'Arrival Time' \n",
    "count_dept_more_than_arrival = 0\n",
    "list_of_index_of_dept_more_than_arrival = []\n",
    "print(\"In the below cases Departure time is higher than Arrival time\")\n",
    "for i in range(len(df1)):\n",
    "    if datetime.strptime(df1['Departure Time'][i], '%H:%M:%S').time() > datetime.strptime(df1['Arrival Time'][i], '%H:%M:%S').time():\n",
    "        t1 = datetime.strptime(df1['Arrival Time'][i],\"%H:%M:%S\").time()\n",
    "        t2 = datetime.strptime(df1['Departure Time'][i],\"%H:%M:%S\").time()\n",
    "        if t2.hour-t1.hour < 12:\n",
    "            count_dept_more_than_arrival+=1\n",
    "            list_of_index_of_dept_more_than_arrival.append(i)\n",
    "            print('Departure Time',df1['Departure Time'][i],'Arrival Time',df1['Arrival Time'][i])"
   ]
  },
  {
   "cell_type": "markdown",
   "metadata": {},
   "source": [
    "* After careful examination of 'Departure Time' and 'Arrival Time', it can be noticed that there are some 'Departure Time' which start after the 'Arrival Time'. So those are anomolies.\n",
    "* To remove these anomalies I'm swapping the 'Departure Time' and 'Arrival Time'."
   ]
  },
  {
   "cell_type": "code",
   "execution_count": 47,
   "metadata": {},
   "outputs": [
    {
     "name": "stderr",
     "output_type": "stream",
     "text": [
      "/Users/aksingh/anaconda3/lib/python3.6/site-packages/ipykernel_launcher.py:5: SettingWithCopyWarning: \n",
      "A value is trying to be set on a copy of a slice from a DataFrame\n",
      "\n",
      "See the caveats in the documentation: http://pandas.pydata.org/pandas-docs/stable/indexing.html#indexing-view-versus-copy\n",
      "  \"\"\"\n",
      "/Users/aksingh/anaconda3/lib/python3.6/site-packages/ipykernel_launcher.py:6: SettingWithCopyWarning: \n",
      "A value is trying to be set on a copy of a slice from a DataFrame\n",
      "\n",
      "See the caveats in the documentation: http://pandas.pydata.org/pandas-docs/stable/indexing.html#indexing-view-versus-copy\n",
      "  \n"
     ]
    }
   ],
   "source": [
    "for i in list_of_index_of_dept_more_than_arrival:\n",
    "    # Swapping the time.\n",
    "        swap_to_arrival = df1['Departure Time'][i]\n",
    "        swap_to_departure = df1['Arrival Time'][i]\n",
    "        df1['Departure Time'][i] = swap_to_departure\n",
    "        df1['Arrival Time'][i] = swap_to_arrival\n",
    "    "
   ]
  },
  {
   "cell_type": "markdown",
   "metadata": {},
   "source": [
    "* Function to calculate 'Travel Time'"
   ]
  },
  {
   "cell_type": "code",
   "execution_count": 48,
   "metadata": {},
   "outputs": [],
   "source": [
    "def traveltime(path, edges):\n",
    "    tt = 0\n",
    "    for i in range(len(path)-1):\n",
    "        tt = tt + (edges[((edges.u==path[i]) & (edges.v== path[i+1])) | ((edges.v==path[i]) & (edges.u== path[i+1]))]['distance(m)'].values[0] * 1.0 * 3600) / (edges[((edges.u==path[i]) & (edges.v== path[i+1])) | ((edges.v==path[i]) & (edges.u== path[i+1]))]['speed(km/h)'].values[0] * 1000)\n",
    "\n",
    "    return tt"
   ]
  },
  {
   "cell_type": "code",
   "execution_count": 49,
   "metadata": {},
   "outputs": [
    {
     "name": "stdout",
     "output_type": "stream",
     "text": [
      "19\n"
     ]
    }
   ],
   "source": [
    "count_different_time = 0\n",
    "for i in source_node.index:\n",
    "    path = nx.dijkstra_path(G,source_node['u'][i], destination_node['v'][i], weight = 'distance(m)')\n",
    "    travel_time=round(traveltime(path,df4),2)\n",
    "    if travel_time!=round(df1['Travel Time(s)'][i],2):\n",
    "        count_different_time += 1\n",
    "#         print(travel_time,':',df1['Travel Time(s)'][i])\n",
    "        df1.at[i,'Travel Time(s)']=travel_time\n",
    "print(count_different_time)"
   ]
  },
  {
   "cell_type": "markdown",
   "metadata": {},
   "source": [
    "# Finding Missing Values In 29968550_missing_value"
   ]
  },
  {
   "cell_type": "code",
   "execution_count": 50,
   "metadata": {},
   "outputs": [
    {
     "name": "stdout",
     "output_type": "stream",
     "text": [
      "<class 'pandas.core.frame.DataFrame'>\n",
      "RangeIndex: 107 entries, 0 to 106\n",
      "Data columns (total 14 columns):\n",
      "Unnamed: 0               107 non-null object\n",
      "Uber Type                85 non-null float64\n",
      "Origin Region            107 non-null int64\n",
      "Destination Region       107 non-null int64\n",
      "Origin Latitude          107 non-null float64\n",
      "Origin Longitude         107 non-null float64\n",
      "Destination Latitude     107 non-null float64\n",
      "Destination Longitude    107 non-null float64\n",
      "Journey Distance(m)      107 non-null float64\n",
      "Departure Date           107 non-null object\n",
      "Departure Time           107 non-null object\n",
      "Travel Time(s)           107 non-null float64\n",
      "Arrival Time             107 non-null object\n",
      "Fare$                    87 non-null float64\n",
      "dtypes: float64(8), int64(2), object(4)\n",
      "memory usage: 11.8+ KB\n"
     ]
    }
   ],
   "source": [
    "df2.info()"
   ]
  },
  {
   "cell_type": "markdown",
   "metadata": {},
   "source": [
    "* So, there are 22 missing values in the Uber Type\n",
    "* There are 20 missing values in the Fares$"
   ]
  },
  {
   "cell_type": "code",
   "execution_count": 51,
   "metadata": {},
   "outputs": [
    {
     "data": {
      "text/html": [
       "<div>\n",
       "<style scoped>\n",
       "    .dataframe tbody tr th:only-of-type {\n",
       "        vertical-align: middle;\n",
       "    }\n",
       "\n",
       "    .dataframe tbody tr th {\n",
       "        vertical-align: top;\n",
       "    }\n",
       "\n",
       "    .dataframe thead th {\n",
       "        text-align: right;\n",
       "    }\n",
       "</style>\n",
       "<table border=\"1\" class=\"dataframe\">\n",
       "  <thead>\n",
       "    <tr style=\"text-align: right;\">\n",
       "      <th></th>\n",
       "      <th>Id</th>\n",
       "      <th>Uber Type</th>\n",
       "      <th>Origin Region</th>\n",
       "      <th>Destination Region</th>\n",
       "      <th>Origin Latitude</th>\n",
       "      <th>Origin Longitude</th>\n",
       "      <th>Destination Latitude</th>\n",
       "      <th>Destination Longitude</th>\n",
       "      <th>Journey Distance(m)</th>\n",
       "      <th>Departure Date</th>\n",
       "      <th>Departure Time</th>\n",
       "      <th>Travel Time(s)</th>\n",
       "      <th>Arrival Time</th>\n",
       "      <th>Fare</th>\n",
       "    </tr>\n",
       "  </thead>\n",
       "  <tbody>\n",
       "    <tr>\n",
       "      <th>0</th>\n",
       "      <td>ID5259808658</td>\n",
       "      <td>NaN</td>\n",
       "      <td>8</td>\n",
       "      <td>6</td>\n",
       "      <td>-37.807202</td>\n",
       "      <td>145.026637</td>\n",
       "      <td>-37.773845</td>\n",
       "      <td>144.983689</td>\n",
       "      <td>8606.0</td>\n",
       "      <td>2018-07-15</td>\n",
       "      <td>13:18:43</td>\n",
       "      <td>2001.84</td>\n",
       "      <td>13:52:04</td>\n",
       "      <td>176.63</td>\n",
       "    </tr>\n",
       "    <tr>\n",
       "      <th>1</th>\n",
       "      <td>ID1636186941</td>\n",
       "      <td>NaN</td>\n",
       "      <td>7</td>\n",
       "      <td>4</td>\n",
       "      <td>-37.861835</td>\n",
       "      <td>144.905716</td>\n",
       "      <td>-37.808925</td>\n",
       "      <td>145.008836</td>\n",
       "      <td>12067.0</td>\n",
       "      <td>2018-04-16</td>\n",
       "      <td>00:30:33</td>\n",
       "      <td>3818.40</td>\n",
       "      <td>1:34:11</td>\n",
       "      <td>15.49</td>\n",
       "    </tr>\n",
       "    <tr>\n",
       "      <th>2</th>\n",
       "      <td>ID3674911830</td>\n",
       "      <td>1.0</td>\n",
       "      <td>6</td>\n",
       "      <td>1</td>\n",
       "      <td>-37.790797</td>\n",
       "      <td>144.985865</td>\n",
       "      <td>-37.811828</td>\n",
       "      <td>144.967575</td>\n",
       "      <td>3443.0</td>\n",
       "      <td>2018-03-17</td>\n",
       "      <td>23:41:36</td>\n",
       "      <td>982.68</td>\n",
       "      <td>23:57:58</td>\n",
       "      <td>23.95</td>\n",
       "    </tr>\n",
       "    <tr>\n",
       "      <th>3</th>\n",
       "      <td>ID3809401056</td>\n",
       "      <td>NaN</td>\n",
       "      <td>6</td>\n",
       "      <td>1</td>\n",
       "      <td>-37.773845</td>\n",
       "      <td>144.983689</td>\n",
       "      <td>-37.821160</td>\n",
       "      <td>144.955435</td>\n",
       "      <td>6554.0</td>\n",
       "      <td>2018-06-17</td>\n",
       "      <td>06:48:46</td>\n",
       "      <td>1438.38</td>\n",
       "      <td>7:12:44</td>\n",
       "      <td>16.15</td>\n",
       "    </tr>\n",
       "    <tr>\n",
       "      <th>4</th>\n",
       "      <td>ID1856834077</td>\n",
       "      <td>NaN</td>\n",
       "      <td>2</td>\n",
       "      <td>4</td>\n",
       "      <td>-37.815214</td>\n",
       "      <td>144.935503</td>\n",
       "      <td>-37.803361</td>\n",
       "      <td>144.990553</td>\n",
       "      <td>6308.0</td>\n",
       "      <td>2018-04-15</td>\n",
       "      <td>13:32:13</td>\n",
       "      <td>1539.84</td>\n",
       "      <td>13:57:52</td>\n",
       "      <td>13.06</td>\n",
       "    </tr>\n",
       "  </tbody>\n",
       "</table>\n",
       "</div>"
      ],
      "text/plain": [
       "             Id  Uber Type  Origin Region  Destination Region  \\\n",
       "0  ID5259808658        NaN              8                   6   \n",
       "1  ID1636186941        NaN              7                   4   \n",
       "2  ID3674911830        1.0              6                   1   \n",
       "3  ID3809401056        NaN              6                   1   \n",
       "4  ID1856834077        NaN              2                   4   \n",
       "\n",
       "   Origin Latitude  Origin Longitude  Destination Latitude  \\\n",
       "0       -37.807202        145.026637            -37.773845   \n",
       "1       -37.861835        144.905716            -37.808925   \n",
       "2       -37.790797        144.985865            -37.811828   \n",
       "3       -37.773845        144.983689            -37.821160   \n",
       "4       -37.815214        144.935503            -37.803361   \n",
       "\n",
       "   Destination Longitude  Journey Distance(m) Departure Date Departure Time  \\\n",
       "0             144.983689               8606.0     2018-07-15       13:18:43   \n",
       "1             145.008836              12067.0     2018-04-16       00:30:33   \n",
       "2             144.967575               3443.0     2018-03-17       23:41:36   \n",
       "3             144.955435               6554.0     2018-06-17       06:48:46   \n",
       "4             144.990553               6308.0     2018-04-15       13:32:13   \n",
       "\n",
       "   Travel Time(s) Arrival Time    Fare  \n",
       "0         2001.84     13:52:04  176.63  \n",
       "1         3818.40      1:34:11   15.49  \n",
       "2          982.68     23:57:58   23.95  \n",
       "3         1438.38      7:12:44   16.15  \n",
       "4         1539.84     13:57:52   13.06  "
      ]
     },
     "execution_count": 51,
     "metadata": {},
     "output_type": "execute_result"
    }
   ],
   "source": [
    "# Renaming missing_value columns\n",
    "df2.rename(columns={\"Unnamed: 0\":\"Id\"},inplace=True)\n",
    "# Renaming missing_value columns\n",
    "df2.rename(columns={\"Fare$\":\"Fare\"},inplace=True)\n",
    "df2.head()"
   ]
  },
  {
   "cell_type": "markdown",
   "metadata": {},
   "source": [
    "### Computing Missing values in uber type"
   ]
  },
  {
   "cell_type": "markdown",
   "metadata": {},
   "source": [
    "#### From the conclusion made in dirty_data :-\n",
    "> * Uber 'Id' of 'Uber type' 0 starts with ID1 following some number \n",
    "> * Uber 'Id' of 'Uber type' 1 starts with ID3 following some number \n",
    "> * Uber 'Id' of 'Uber type' 0 starts with ID5 following some number\n",
    "#### Computing Uber type "
   ]
  },
  {
   "cell_type": "markdown",
   "metadata": {},
   "source": [
    "* Imputing the value of these 22 missing values of uber type from conclusion drawn "
   ]
  },
  {
   "cell_type": "code",
   "execution_count": 52,
   "metadata": {},
   "outputs": [],
   "source": [
    "# Assigning UberType as per TripID\n",
    "df2.loc[(df2['Id'].str[:3] == 'ID1'), \"Uber Type\"] = 0.0\n",
    "df2.loc[(df2['Id'].str[:3] == 'ID3'), \"Uber Type\"] = 1.0\n",
    "df2.loc[(df2['Id'].str[:3] == 'ID5'), \"Uber Type\"] = 2.0"
   ]
  },
  {
   "cell_type": "markdown",
   "metadata": {},
   "source": [
    "### Computing Missing values in Fare"
   ]
  },
  {
   "cell_type": "code",
   "execution_count": 53,
   "metadata": {},
   "outputs": [
    {
     "data": {
      "text/plain": [
       "<matplotlib.axes._subplots.AxesSubplot at 0x110b5c908>"
      ]
     },
     "execution_count": 53,
     "metadata": {},
     "output_type": "execute_result"
    },
    {
     "data": {
      "image/png": "[encoded data removed]",
      "text/plain": [
       "<Figure size 432x288 with 2 Axes>"
      ]
     },
     "metadata": {},
     "output_type": "display_data"
    }
   ],
   "source": [
    "correlation = df2.corr()\n",
    "sns.heatmap(correlation, \n",
    "            xticklabels=correlation.columns.values,\n",
    "            yticklabels=correlation.columns.values)"
   ]
  },
  {
   "cell_type": "markdown",
   "metadata": {},
   "source": [
    "Looks like Fare has the most relation with **Uber Type**, **Journey Distance** and **Travel Time**. Lets try to visualize the linear relationship of Fare with Journey Distance and Travel time. "
   ]
  },
  {
   "cell_type": "markdown",
   "metadata": {},
   "source": [
    "* After reading the assessment 2 specification, it can be inferred that the fare of the journey depends on many variable\n",
    "* The enumeration of variable that fare depend on are:-\n",
    "\n",
    "> * Uber Type\n",
    "> * Journey Distance\n",
    "> * Departure Date\n",
    "> * Departure Time\n",
    "> * Travel Time"
   ]
  },
  {
   "cell_type": "code",
   "execution_count": 54,
   "metadata": {},
   "outputs": [
    {
     "data": {
      "image/png": "[encoded data removed]",
      "text/plain": [
       "<Figure size 360x180 with 2 Axes>"
      ]
     },
     "metadata": {},
     "output_type": "display_data"
    }
   ],
   "source": [
    "sns.pairplot(df2, x_vars=['Journey Distance(m)','Travel Time(s)'], y_vars='Fare', kind='reg');"
   ]
  },
  {
   "cell_type": "markdown",
   "metadata": {},
   "source": [
    "Looks like there is some disconnect in the relationship. There seems to be a trend but with a condition. Lets visualize this for each different Uber Type"
   ]
  },
  {
   "cell_type": "code",
   "execution_count": 55,
   "metadata": {},
   "outputs": [
    {
     "data": {
      "image/png": "[encoded data removed]",
      "text/plain": [
       "<Figure size 1080x360 with 3 Axes>"
      ]
     },
     "metadata": {},
     "output_type": "display_data"
    }
   ],
   "source": [
    "sns.lmplot('Journey Distance(m)','Fare', col = 'Uber Type',data = df2);"
   ]
  },
  {
   "cell_type": "code",
   "execution_count": 56,
   "metadata": {},
   "outputs": [
    {
     "data": {
      "image/png": "[encoded data removed]",
      "text/plain": [
       "<Figure size 1080x360 with 3 Axes>"
      ]
     },
     "metadata": {},
     "output_type": "display_data"
    }
   ],
   "source": [
    "sns.lmplot('Travel Time(s)','Fare', col = 'Uber Type',data = df2);"
   ]
  },
  {
   "cell_type": "markdown",
   "metadata": {},
   "source": [
    "As it is described in the specification document there is a different way to calculate the fare for each Uber Type. So when we plot the corelations for different Uber Types on Different graphs, the linear relation is quite visible. Lets create a individual Model to predict the missing Fare values for each UberType."
   ]
  },
  {
   "cell_type": "markdown",
   "metadata": {},
   "source": [
    "There are two numerical columns that can be created which would also be good predictors - **Time of Day** of the trip and another variable to indicate if it was a **weekend**"
   ]
  },
  {
   "cell_type": "markdown",
   "metadata": {},
   "source": [
    "Time of Day is defined as follows:\n",
    "> * 06:00:00 to 11:59:00 -> 0\n",
    "> * 12:00:00 to 20:59:59 -> 1\n",
    "> * 21:00:00 or Before 5:59:59 -> 2"
   ]
  },
  {
   "cell_type": "code",
   "execution_count": 57,
   "metadata": {},
   "outputs": [],
   "source": [
    "lis_of_time_category=[]\n",
    "for i in df2[\"Departure Time\"]:\n",
    "    #searching for the digits pattern\n",
    "    \n",
    "    if re.search(r'\\d+:\\d+:\\d+',i):\n",
    "        \n",
    "        j=re.search(r'(\\d+):\\d+:\\d+',i).group(1)\n",
    "        #condition to \n",
    "    \n",
    "        if int(j)>=6 and int(j)<=11:\n",
    "            lis_of_time_category.append(0)\n",
    "        elif int(j)>=12 and int(j)<=20:\n",
    "            lis_of_time_category.append(1)\n",
    "        else:\n",
    "            lis_of_time_category.append(2) \n",
    "df2[\"TimeOfDay\"] = lis_of_time_category"
   ]
  },
  {
   "cell_type": "markdown",
   "metadata": {},
   "source": [
    "* Weekdays or Weekend is defined as follows:"
   ]
  },
  {
   "cell_type": "code",
   "execution_count": 58,
   "metadata": {},
   "outputs": [],
   "source": [
    "# Creating a column to indicate if its weekend. \n",
    "df2['Departure Date'] = pd.to_datetime(df2['Departure Date'])\n",
    "df2['weekend'] = np.where(df2['Departure Date'].dt.dayofweek > 4, 1, 0)"
   ]
  },
  {
   "cell_type": "code",
   "execution_count": 59,
   "metadata": {},
   "outputs": [],
   "source": [
    "#Creating individual dataframes for each ubertype\n",
    "ut0 = df2[df2['Uber Type'] == 0].copy()\n",
    "ut1 = df2[df2['Uber Type'] == 1].copy()\n",
    "ut2 = df2[df2['Uber Type'] == 2].copy()\n",
    "\n",
    "# Creating dataframes without missing values of Fare\n",
    "drop_null_df2 = df2.copy()\n",
    "drop_null_df2.dropna(subset=['Fare'], axis=0, inplace = True)\n",
    "dropped_ut0 = drop_null_df2[drop_null_df2['Uber Type'] == 0]\n",
    "dropped_ut1 = drop_null_df2[drop_null_df2['Uber Type'] == 1]\n",
    "dropped_ut2 = drop_null_df2[drop_null_df2['Uber Type'] == 2]"
   ]
  },
  {
   "cell_type": "code",
   "execution_count": 60,
   "metadata": {},
   "outputs": [],
   "source": [
    "# Setting up linear regression\n",
    "lm_ut0 = LinearRegression()\n",
    "lm_ut1 = LinearRegression()\n",
    "lm_ut2 = LinearRegression()"
   ]
  },
  {
   "cell_type": "code",
   "execution_count": 61,
   "metadata": {},
   "outputs": [
    {
     "data": {
      "text/plain": [
       "LinearRegression(copy_X=True, fit_intercept=True, n_jobs=1, normalize=False)"
      ]
     },
     "execution_count": 61,
     "metadata": {},
     "output_type": "execute_result"
    }
   ],
   "source": [
    "# Creating fitted model for each Uber Type using only useful columns\n",
    "useful_cols = ['Journey Distance(m)','Travel Time(s)','TimeOfDay','weekend']\n",
    "lm_ut0.fit(dropped_ut0[useful_cols],dropped_ut0['Fare'])\n",
    "lm_ut1.fit(dropped_ut1[useful_cols],dropped_ut1['Fare'])\n",
    "lm_ut2.fit(dropped_ut2[useful_cols],dropped_ut2['Fare'])"
   ]
  },
  {
   "cell_type": "code",
   "execution_count": 62,
   "metadata": {},
   "outputs": [],
   "source": [
    "# Fare Prediction stored in new column - lm_fare\n",
    "ut0['lm_fare'] = lm_ut0.predict(ut0[useful_cols])\n",
    "ut1['lm_fare'] = lm_ut1.predict(ut1[useful_cols])\n",
    "ut2['lm_fare'] = lm_ut2.predict(ut2[useful_cols])"
   ]
  },
  {
   "cell_type": "code",
   "execution_count": 63,
   "metadata": {},
   "outputs": [
    {
     "data": {
      "text/html": [
       "<div>\n",
       "<style scoped>\n",
       "    .dataframe tbody tr th:only-of-type {\n",
       "        vertical-align: middle;\n",
       "    }\n",
       "\n",
       "    .dataframe tbody tr th {\n",
       "        vertical-align: top;\n",
       "    }\n",
       "\n",
       "    .dataframe thead th {\n",
       "        text-align: right;\n",
       "    }\n",
       "</style>\n",
       "<table border=\"1\" class=\"dataframe\">\n",
       "  <thead>\n",
       "    <tr style=\"text-align: right;\">\n",
       "      <th></th>\n",
       "      <th>Id</th>\n",
       "      <th>Uber Type</th>\n",
       "      <th>Origin Region</th>\n",
       "      <th>Destination Region</th>\n",
       "      <th>Origin Latitude</th>\n",
       "      <th>Origin Longitude</th>\n",
       "      <th>Destination Latitude</th>\n",
       "      <th>Destination Longitude</th>\n",
       "      <th>Journey Distance(m)</th>\n",
       "      <th>Departure Date</th>\n",
       "      <th>Departure Time</th>\n",
       "      <th>Travel Time(s)</th>\n",
       "      <th>Arrival Time</th>\n",
       "      <th>Fare</th>\n",
       "      <th>TimeOfDay</th>\n",
       "      <th>weekend</th>\n",
       "      <th>lm_fare</th>\n",
       "    </tr>\n",
       "  </thead>\n",
       "  <tbody>\n",
       "    <tr>\n",
       "      <th>1</th>\n",
       "      <td>ID1636186941</td>\n",
       "      <td>0.0</td>\n",
       "      <td>7</td>\n",
       "      <td>4</td>\n",
       "      <td>-37.861835</td>\n",
       "      <td>144.905716</td>\n",
       "      <td>-37.808925</td>\n",
       "      <td>145.008836</td>\n",
       "      <td>12067.0</td>\n",
       "      <td>2018-04-16</td>\n",
       "      <td>00:30:33</td>\n",
       "      <td>3818.40</td>\n",
       "      <td>1:34:11</td>\n",
       "      <td>15.49</td>\n",
       "      <td>2</td>\n",
       "      <td>0</td>\n",
       "      <td>16.081171</td>\n",
       "    </tr>\n",
       "    <tr>\n",
       "      <th>4</th>\n",
       "      <td>ID1856834077</td>\n",
       "      <td>0.0</td>\n",
       "      <td>2</td>\n",
       "      <td>4</td>\n",
       "      <td>-37.815214</td>\n",
       "      <td>144.935503</td>\n",
       "      <td>-37.803361</td>\n",
       "      <td>144.990553</td>\n",
       "      <td>6308.0</td>\n",
       "      <td>2018-04-15</td>\n",
       "      <td>13:32:13</td>\n",
       "      <td>1539.84</td>\n",
       "      <td>13:57:52</td>\n",
       "      <td>13.06</td>\n",
       "      <td>1</td>\n",
       "      <td>1</td>\n",
       "      <td>13.039664</td>\n",
       "    </tr>\n",
       "    <tr>\n",
       "      <th>5</th>\n",
       "      <td>ID1485351111</td>\n",
       "      <td>0.0</td>\n",
       "      <td>9</td>\n",
       "      <td>7</td>\n",
       "      <td>-38.110916</td>\n",
       "      <td>144.654173</td>\n",
       "      <td>-37.861835</td>\n",
       "      <td>144.905716</td>\n",
       "      <td>50797.0</td>\n",
       "      <td>2018-06-04</td>\n",
       "      <td>08:43:00</td>\n",
       "      <td>13204.98</td>\n",
       "      <td>12:23:04</td>\n",
       "      <td>24.90</td>\n",
       "      <td>0</td>\n",
       "      <td>0</td>\n",
       "      <td>24.187650</td>\n",
       "    </tr>\n",
       "    <tr>\n",
       "      <th>10</th>\n",
       "      <td>ID1790307124</td>\n",
       "      <td>0.0</td>\n",
       "      <td>5</td>\n",
       "      <td>4</td>\n",
       "      <td>-37.799483</td>\n",
       "      <td>144.936846</td>\n",
       "      <td>-37.807383</td>\n",
       "      <td>144.994180</td>\n",
       "      <td>5304.0</td>\n",
       "      <td>2018-03-22</td>\n",
       "      <td>21:45:22</td>\n",
       "      <td>1397.58</td>\n",
       "      <td>22:08:39</td>\n",
       "      <td>14.48</td>\n",
       "      <td>2</td>\n",
       "      <td>0</td>\n",
       "      <td>12.626368</td>\n",
       "    </tr>\n",
       "    <tr>\n",
       "      <th>12</th>\n",
       "      <td>ID1950477834</td>\n",
       "      <td>0.0</td>\n",
       "      <td>5</td>\n",
       "      <td>6</td>\n",
       "      <td>-37.811360</td>\n",
       "      <td>144.927209</td>\n",
       "      <td>-37.787442</td>\n",
       "      <td>144.980409</td>\n",
       "      <td>6946.0</td>\n",
       "      <td>2018-05-13</td>\n",
       "      <td>07:18:10</td>\n",
       "      <td>1794.96</td>\n",
       "      <td>7:48:04</td>\n",
       "      <td>9.19</td>\n",
       "      <td>0</td>\n",
       "      <td>1</td>\n",
       "      <td>10.535686</td>\n",
       "    </tr>\n",
       "  </tbody>\n",
       "</table>\n",
       "</div>"
      ],
      "text/plain": [
       "              Id  Uber Type  Origin Region  Destination Region  \\\n",
       "1   ID1636186941        0.0              7                   4   \n",
       "4   ID1856834077        0.0              2                   4   \n",
       "5   ID1485351111        0.0              9                   7   \n",
       "10  ID1790307124        0.0              5                   4   \n",
       "12  ID1950477834        0.0              5                   6   \n",
       "\n",
       "    Origin Latitude  Origin Longitude  Destination Latitude  \\\n",
       "1        -37.861835        144.905716            -37.808925   \n",
       "4        -37.815214        144.935503            -37.803361   \n",
       "5        -38.110916        144.654173            -37.861835   \n",
       "10       -37.799483        144.936846            -37.807383   \n",
       "12       -37.811360        144.927209            -37.787442   \n",
       "\n",
       "    Destination Longitude  Journey Distance(m) Departure Date Departure Time  \\\n",
       "1              145.008836              12067.0     2018-04-16       00:30:33   \n",
       "4              144.990553               6308.0     2018-04-15       13:32:13   \n",
       "5              144.905716              50797.0     2018-06-04       08:43:00   \n",
       "10             144.994180               5304.0     2018-03-22       21:45:22   \n",
       "12             144.980409               6946.0     2018-05-13       07:18:10   \n",
       "\n",
       "    Travel Time(s) Arrival Time   Fare  TimeOfDay  weekend    lm_fare  \n",
       "1          3818.40      1:34:11  15.49          2        0  16.081171  \n",
       "4          1539.84     13:57:52  13.06          1        1  13.039664  \n",
       "5         13204.98     12:23:04  24.90          0        0  24.187650  \n",
       "10         1397.58     22:08:39  14.48          2        0  12.626368  \n",
       "12         1794.96      7:48:04   9.19          0        1  10.535686  "
      ]
     },
     "execution_count": 63,
     "metadata": {},
     "output_type": "execute_result"
    }
   ],
   "source": [
    "# Merging data for all 3 uber types\n",
    "fare_predicted = pd.concat([ut0,ut1, ut2])\n",
    "fare_predicted.head()"
   ]
  },
  {
   "cell_type": "code",
   "execution_count": 64,
   "metadata": {},
   "outputs": [],
   "source": [
    "# Merging predicted fare into missing data frame\n",
    "df2 = pd.merge(df2,fare_predicted[['Id','lm_fare']], on = ['Id'], how = 'left')\n",
    "\n",
    "# Creating a new copy and dropping the missing values for evaluating the fit.\n",
    "drop_null_df2 = df2.copy()\n",
    "drop_null_df2.dropna(subset=['Fare'], axis=0, inplace = True)\n"
   ]
  },
  {
   "cell_type": "code",
   "execution_count": 65,
   "metadata": {},
   "outputs": [
    {
     "name": "stdout",
     "output_type": "stream",
     "text": [
      "R-squared score for UberType=0 linear model:  0.9780104417965257\n",
      "RMSE for UberType=0 linear model:  0.6733274035262706 \n",
      "\n",
      "R-squared score for UberType=0 linear model:  0.9968875211599222\n",
      "RMSE for UberType=0 linear model:  0.954938828507288 \n",
      "\n",
      "R-squared score for UberType=0 linear model:  0.9999956592075405\n",
      "RMSE for UberType=0 linear model:  0.49634098797306486 \n",
      "\n"
     ]
    }
   ],
   "source": [
    "#Model evaluation\n",
    "rsquare0 = r2_score(drop_null_df2[drop_null_df2['Uber Type'] == 0].Fare, drop_null_df2[drop_null_df2['Uber Type'] == 0].lm_fare)\n",
    "rmse0 = mean_squared_error(drop_null_df2[drop_null_df2['Uber Type'] == 0].Fare, drop_null_df2[drop_null_df2['Uber Type'] == 0].lm_fare)\n",
    "print(\"R-squared score for UberType=0 linear model: \",rsquare0)\n",
    "print(\"RMSE for UberType=0 linear model: \",rmse0,\"\\n\")\n",
    "\n",
    "rsquare1 = r2_score(drop_null_df2[drop_null_df2['Uber Type'] == 1].Fare, drop_null_df2[drop_null_df2['Uber Type'] == 1].lm_fare)\n",
    "rmse1 = mean_squared_error(drop_null_df2[drop_null_df2['Uber Type'] == 1].Fare, drop_null_df2[drop_null_df2['Uber Type'] == 1].lm_fare)\n",
    "print(\"R-squared score for UberType=0 linear model: \",rsquare1)\n",
    "print(\"RMSE for UberType=0 linear model: \",rmse1,\"\\n\")\n",
    "\n",
    "rsquare2 = r2_score(drop_null_df2[drop_null_df2['Uber Type'] == 2].Fare, drop_null_df2[drop_null_df2['Uber Type'] == 2].lm_fare)\n",
    "rmse2 = mean_squared_error(drop_null_df2[drop_null_df2['Uber Type'] == 2].Fare, drop_null_df2[drop_null_df2['Uber Type'] == 2].lm_fare)\n",
    "print(\"R-squared score for UberType=0 linear model: \",rsquare2)\n",
    "print(\"RMSE for UberType=0 linear model: \",rmse2,\"\\n\")"
   ]
  },
  {
   "cell_type": "code",
   "execution_count": 66,
   "metadata": {},
   "outputs": [],
   "source": [
    "# Replacing missing values with predicted values\n",
    "df2.loc[df2.Fare.isnull(),'Fare'] = df2.loc[df2.Fare.isnull(),'lm_fare']"
   ]
  },
  {
   "cell_type": "code",
   "execution_count": 67,
   "metadata": {},
   "outputs": [
    {
     "name": "stdout",
     "output_type": "stream",
     "text": [
      "Number of missing values in Fare Column:  0\n"
     ]
    },
    {
     "data": {
      "text/html": [
       "<div>\n",
       "<style scoped>\n",
       "    .dataframe tbody tr th:only-of-type {\n",
       "        vertical-align: middle;\n",
       "    }\n",
       "\n",
       "    .dataframe tbody tr th {\n",
       "        vertical-align: top;\n",
       "    }\n",
       "\n",
       "    .dataframe thead th {\n",
       "        text-align: right;\n",
       "    }\n",
       "</style>\n",
       "<table border=\"1\" class=\"dataframe\">\n",
       "  <thead>\n",
       "    <tr style=\"text-align: right;\">\n",
       "      <th></th>\n",
       "      <th>Id</th>\n",
       "      <th>Uber Type</th>\n",
       "      <th>Origin Region</th>\n",
       "      <th>Destination Region</th>\n",
       "      <th>Origin Latitude</th>\n",
       "      <th>Origin Longitude</th>\n",
       "      <th>Destination Latitude</th>\n",
       "      <th>Destination Longitude</th>\n",
       "      <th>Journey Distance(m)</th>\n",
       "      <th>Departure Date</th>\n",
       "      <th>Departure Time</th>\n",
       "      <th>Travel Time(s)</th>\n",
       "      <th>Arrival Time</th>\n",
       "      <th>Fare</th>\n",
       "      <th>TimeOfDay</th>\n",
       "      <th>weekend</th>\n",
       "      <th>lm_fare</th>\n",
       "    </tr>\n",
       "  </thead>\n",
       "  <tbody>\n",
       "  </tbody>\n",
       "</table>\n",
       "</div>"
      ],
      "text/plain": [
       "Empty DataFrame\n",
       "Columns: [Id, Uber Type, Origin Region, Destination Region, Origin Latitude, Origin Longitude, Destination Latitude, Destination Longitude, Journey Distance(m), Departure Date, Departure Time, Travel Time(s), Arrival Time, Fare, TimeOfDay, weekend, lm_fare]\n",
       "Index: []"
      ]
     },
     "execution_count": 67,
     "metadata": {},
     "output_type": "execute_result"
    }
   ],
   "source": [
    "print(\"Number of missing values in Fare Column: \", df2.Fare.isnull().sum())\n",
    "df2[df2.Fare.isnull()]"
   ]
  },
  {
   "cell_type": "markdown",
   "metadata": {},
   "source": [
    "# Finding outliers in \"29968550_outliers.csv\""
   ]
  },
  {
   "cell_type": "markdown",
   "metadata": {},
   "source": [
    "###  Using box plot investigate possible outliers"
   ]
  },
  {
   "cell_type": "code",
   "execution_count": 68,
   "metadata": {},
   "outputs": [
    {
     "data": {
      "image/png": "[encoded data removed]",
      "text/plain": [
       "<Figure size 1440x432 with 1 Axes>"
      ]
     },
     "metadata": {},
     "output_type": "display_data"
    }
   ],
   "source": [
    "plt.figure(figsize=(20,6))\n",
    "bp = df3.boxplot()"
   ]
  },
  {
   "cell_type": "markdown",
   "metadata": {},
   "source": [
    "* The first thing to notice is that 'Journey Distance(m)','Fare'and 'Travel Time' has many outliers.\n",
    "* However, plotting all data together might not be right because of the different ranges of attributes. Therefore, we look at one attribute at a time instead. "
   ]
  },
  {
   "cell_type": "markdown",
   "metadata": {},
   "source": [
    "#### Function for removing outliers.\n",
    "* The remove_outlier function has two arguments.\n",
    ">  1) Data Frame\n",
    ">  2 ) Column Name\n",
    "* remove_outlier finds the inter-quartile range(IQR) and then removes values that lie 1.5 * IQR away from upper or lower quantile as they are considered as outliers."
   ]
  },
  {
   "cell_type": "code",
   "execution_count": 69,
   "metadata": {},
   "outputs": [],
   "source": [
    "def remove_outlier(data_frame,column):\n",
    "    Q1 = data_frame[column].quantile(0.25)\n",
    "    Q3 = data_frame[column].quantile(0.75)\n",
    "    IQR = Q3 - Q1\n",
    "    outliers = data_frame.loc[(data_frame[column] < (Q1 - 1.5 * IQR)) | (data_frame[column] > (Q3 + 1.5 * IQR))]\n",
    "    return data_frame.drop(outliers.index)"
   ]
  },
  {
   "cell_type": "markdown",
   "metadata": {},
   "source": [
    "#### Examining outliers in travel time"
   ]
  },
  {
   "cell_type": "code",
   "execution_count": 70,
   "metadata": {},
   "outputs": [
    {
     "data": {
      "text/plain": [
       "<matplotlib.axes._subplots.AxesSubplot at 0x113dc95f8>"
      ]
     },
     "execution_count": 70,
     "metadata": {},
     "output_type": "execute_result"
    },
    {
     "data": {
      "image/png": "[encoded data removed]",
      "text/plain": [
       "<Figure size 432x288 with 1 Axes>"
      ]
     },
     "metadata": {},
     "output_type": "display_data"
    }
   ],
   "source": [
    "df3.boxplot(column='Travel Time(s)')"
   ]
  },
  {
   "cell_type": "markdown",
   "metadata": {},
   "source": [
    "* Removing outliers from travel time"
   ]
  },
  {
   "cell_type": "code",
   "execution_count": 71,
   "metadata": {},
   "outputs": [
    {
     "data": {
      "text/plain": [
       "<matplotlib.axes._subplots.AxesSubplot at 0x111777390>"
      ]
     },
     "execution_count": 71,
     "metadata": {},
     "output_type": "execute_result"
    },
    {
     "data": {
      "image/png": "[encoded data removed]",
      "text/plain": [
       "<Figure size 432x288 with 1 Axes>"
      ]
     },
     "metadata": {},
     "output_type": "display_data"
    }
   ],
   "source": [
    "df3 = remove_outlier(df3, \"Travel Time(s)\")\n",
    "df3.boxplot(column='Travel Time(s)')"
   ]
  },
  {
   "cell_type": "markdown",
   "metadata": {},
   "source": [
    "#### Examining outliers in Journey Distance"
   ]
  },
  {
   "cell_type": "code",
   "execution_count": 72,
   "metadata": {},
   "outputs": [
    {
     "data": {
      "text/plain": [
       "<matplotlib.axes._subplots.AxesSubplot at 0x113e7d710>"
      ]
     },
     "execution_count": 72,
     "metadata": {},
     "output_type": "execute_result"
    },
    {
     "data": {
      "image/png": "[encoded data removed]",
      "text/plain": [
       "<Figure size 432x288 with 1 Axes>"
      ]
     },
     "metadata": {},
     "output_type": "display_data"
    }
   ],
   "source": [
    "df3.boxplot(column='Journey Distance(m)')"
   ]
  },
  {
   "cell_type": "markdown",
   "metadata": {},
   "source": [
    "* Looks like the outliers in Journey Distance were related to outliers in Travel time since Travel Time increases with Journey Distance. So removing outliers from Travel time also removed the outlier datapoints for Journey Distance. "
   ]
  },
  {
   "cell_type": "markdown",
   "metadata": {},
   "source": [
    "#### Examining outliers in Fare"
   ]
  },
  {
   "cell_type": "code",
   "execution_count": 73,
   "metadata": {},
   "outputs": [
    {
     "data": {
      "text/plain": [
       "<matplotlib.axes._subplots.AxesSubplot at 0x1140e86d8>"
      ]
     },
     "execution_count": 73,
     "metadata": {},
     "output_type": "execute_result"
    },
    {
     "data": {
      "image/png": "[encoded data removed]",
      "text/plain": [
       "<Figure size 432x288 with 1 Axes>"
      ]
     },
     "metadata": {},
     "output_type": "display_data"
    }
   ],
   "source": [
    "df3.boxplot(column='Fare$')"
   ]
  },
  {
   "cell_type": "markdown",
   "metadata": {},
   "source": [
    "* Removing outliers from Fare"
   ]
  },
  {
   "cell_type": "code",
   "execution_count": 74,
   "metadata": {},
   "outputs": [
    {
     "data": {
      "text/plain": [
       "<matplotlib.axes._subplots.AxesSubplot at 0x11169f978>"
      ]
     },
     "execution_count": 74,
     "metadata": {},
     "output_type": "execute_result"
    },
    {
     "data": {
      "image/png": "[encoded data removed]",
      "text/plain": [
       "<Figure size 432x288 with 1 Axes>"
      ]
     },
     "metadata": {},
     "output_type": "display_data"
    }
   ],
   "source": [
    "df3 = remove_outlier(df3, \"Fare$\")\n",
    "df3.boxplot(column='Fare$')"
   ]
  },
  {
   "cell_type": "code",
   "execution_count": 75,
   "metadata": {},
   "outputs": [
    {
     "data": {
      "text/html": [
       "<div>\n",
       "<style scoped>\n",
       "    .dataframe tbody tr th:only-of-type {\n",
       "        vertical-align: middle;\n",
       "    }\n",
       "\n",
       "    .dataframe tbody tr th {\n",
       "        vertical-align: top;\n",
       "    }\n",
       "\n",
       "    .dataframe thead th {\n",
       "        text-align: right;\n",
       "    }\n",
       "</style>\n",
       "<table border=\"1\" class=\"dataframe\">\n",
       "  <thead>\n",
       "    <tr style=\"text-align: right;\">\n",
       "      <th></th>\n",
       "      <th>Unnamed: 0</th>\n",
       "      <th>Uber Type</th>\n",
       "      <th>Origin Region</th>\n",
       "      <th>Destination Region</th>\n",
       "      <th>Origin Latitude</th>\n",
       "      <th>Origin Longitude</th>\n",
       "      <th>Destination Latitude</th>\n",
       "      <th>Destination Longitude</th>\n",
       "      <th>Journey Distance(m)</th>\n",
       "      <th>Departure Date</th>\n",
       "      <th>Departure Time</th>\n",
       "      <th>Travel Time(s)</th>\n",
       "      <th>Arrival Time</th>\n",
       "      <th>Fare$</th>\n",
       "    </tr>\n",
       "  </thead>\n",
       "  <tbody>\n",
       "    <tr>\n",
       "      <th>0</th>\n",
       "      <td>ID1894121772</td>\n",
       "      <td>0</td>\n",
       "      <td>2</td>\n",
       "      <td>7</td>\n",
       "      <td>-37.815019</td>\n",
       "      <td>144.945159</td>\n",
       "      <td>-37.861835</td>\n",
       "      <td>144.905716</td>\n",
       "      <td>9553.0</td>\n",
       "      <td>2018-04-01</td>\n",
       "      <td>09:46:21</td>\n",
       "      <td>3194.76</td>\n",
       "      <td>10:39:35</td>\n",
       "      <td>8.70</td>\n",
       "    </tr>\n",
       "    <tr>\n",
       "      <th>1</th>\n",
       "      <td>ID1190628672</td>\n",
       "      <td>0</td>\n",
       "      <td>9</td>\n",
       "      <td>2</td>\n",
       "      <td>-38.110916</td>\n",
       "      <td>144.654173</td>\n",
       "      <td>-37.815365</td>\n",
       "      <td>144.941289</td>\n",
       "      <td>42145.0</td>\n",
       "      <td>2018-04-17</td>\n",
       "      <td>19:30:33</td>\n",
       "      <td>10098.54</td>\n",
       "      <td>22:18:51</td>\n",
       "      <td>15.28</td>\n",
       "    </tr>\n",
       "    <tr>\n",
       "      <th>2</th>\n",
       "      <td>ID3408994706</td>\n",
       "      <td>1</td>\n",
       "      <td>8</td>\n",
       "      <td>9</td>\n",
       "      <td>-37.815834</td>\n",
       "      <td>145.046450</td>\n",
       "      <td>-38.110916</td>\n",
       "      <td>144.654173</td>\n",
       "      <td>51032.0</td>\n",
       "      <td>2018-07-04</td>\n",
       "      <td>21:50:32</td>\n",
       "      <td>12681.06</td>\n",
       "      <td>1:21:53</td>\n",
       "      <td>61.93</td>\n",
       "    </tr>\n",
       "    <tr>\n",
       "      <th>3</th>\n",
       "      <td>ID1449124863</td>\n",
       "      <td>0</td>\n",
       "      <td>5</td>\n",
       "      <td>7</td>\n",
       "      <td>-37.799751</td>\n",
       "      <td>144.935380</td>\n",
       "      <td>-37.861835</td>\n",
       "      <td>144.905716</td>\n",
       "      <td>13688.0</td>\n",
       "      <td>2018-02-03</td>\n",
       "      <td>07:45:19</td>\n",
       "      <td>4282.62</td>\n",
       "      <td>8:56:41</td>\n",
       "      <td>10.78</td>\n",
       "    </tr>\n",
       "    <tr>\n",
       "      <th>4</th>\n",
       "      <td>ID5138364089</td>\n",
       "      <td>2</td>\n",
       "      <td>3</td>\n",
       "      <td>7</td>\n",
       "      <td>-37.815406</td>\n",
       "      <td>144.977574</td>\n",
       "      <td>-37.861835</td>\n",
       "      <td>144.905716</td>\n",
       "      <td>8694.0</td>\n",
       "      <td>2018-07-06</td>\n",
       "      <td>20:03:27</td>\n",
       "      <td>3002.82</td>\n",
       "      <td>20:53:29</td>\n",
       "      <td>288.59</td>\n",
       "    </tr>\n",
       "  </tbody>\n",
       "</table>\n",
       "</div>"
      ],
      "text/plain": [
       "     Unnamed: 0  Uber Type  Origin Region  Destination Region  \\\n",
       "0  ID1894121772          0              2                   7   \n",
       "1  ID1190628672          0              9                   2   \n",
       "2  ID3408994706          1              8                   9   \n",
       "3  ID1449124863          0              5                   7   \n",
       "4  ID5138364089          2              3                   7   \n",
       "\n",
       "   Origin Latitude  Origin Longitude  Destination Latitude  \\\n",
       "0       -37.815019        144.945159            -37.861835   \n",
       "1       -38.110916        144.654173            -37.815365   \n",
       "2       -37.815834        145.046450            -38.110916   \n",
       "3       -37.799751        144.935380            -37.861835   \n",
       "4       -37.815406        144.977574            -37.861835   \n",
       "\n",
       "   Destination Longitude  Journey Distance(m) Departure Date Departure Time  \\\n",
       "0             144.905716               9553.0     2018-04-01       09:46:21   \n",
       "1             144.941289              42145.0     2018-04-17       19:30:33   \n",
       "2             144.654173              51032.0     2018-07-04       21:50:32   \n",
       "3             144.905716              13688.0     2018-02-03       07:45:19   \n",
       "4             144.905716               8694.0     2018-07-06       20:03:27   \n",
       "\n",
       "   Travel Time(s) Arrival Time   Fare$  \n",
       "0         3194.76     10:39:35    8.70  \n",
       "1        10098.54     22:18:51   15.28  \n",
       "2        12681.06      1:21:53   61.93  \n",
       "3         4282.62      8:56:41   10.78  \n",
       "4         3002.82     20:53:29  288.59  "
      ]
     },
     "execution_count": 75,
     "metadata": {},
     "output_type": "execute_result"
    }
   ],
   "source": [
    "df1.head()"
   ]
  },
  {
   "cell_type": "code",
   "execution_count": 76,
   "metadata": {},
   "outputs": [
    {
     "data": {
      "text/html": [
       "<div>\n",
       "<style scoped>\n",
       "    .dataframe tbody tr th:only-of-type {\n",
       "        vertical-align: middle;\n",
       "    }\n",
       "\n",
       "    .dataframe tbody tr th {\n",
       "        vertical-align: top;\n",
       "    }\n",
       "\n",
       "    .dataframe thead th {\n",
       "        text-align: right;\n",
       "    }\n",
       "</style>\n",
       "<table border=\"1\" class=\"dataframe\">\n",
       "  <thead>\n",
       "    <tr style=\"text-align: right;\">\n",
       "      <th></th>\n",
       "      <th>Id</th>\n",
       "      <th>Uber Type</th>\n",
       "      <th>Origin Region</th>\n",
       "      <th>Destination Region</th>\n",
       "      <th>Origin Latitude</th>\n",
       "      <th>Origin Longitude</th>\n",
       "      <th>Destination Latitude</th>\n",
       "      <th>Destination Longitude</th>\n",
       "      <th>Journey Distance(m)</th>\n",
       "      <th>Departure Date</th>\n",
       "      <th>Departure Time</th>\n",
       "      <th>Travel Time(s)</th>\n",
       "      <th>Arrival Time</th>\n",
       "      <th>Fare</th>\n",
       "      <th>TimeOfDay</th>\n",
       "      <th>weekend</th>\n",
       "      <th>lm_fare</th>\n",
       "    </tr>\n",
       "  </thead>\n",
       "  <tbody>\n",
       "    <tr>\n",
       "      <th>0</th>\n",
       "      <td>ID5259808658</td>\n",
       "      <td>2.0</td>\n",
       "      <td>8</td>\n",
       "      <td>6</td>\n",
       "      <td>-37.807202</td>\n",
       "      <td>145.026637</td>\n",
       "      <td>-37.773845</td>\n",
       "      <td>144.983689</td>\n",
       "      <td>8606.0</td>\n",
       "      <td>2018-07-15</td>\n",
       "      <td>13:18:43</td>\n",
       "      <td>2001.84</td>\n",
       "      <td>13:52:04</td>\n",
       "      <td>176.63</td>\n",
       "      <td>1</td>\n",
       "      <td>1</td>\n",
       "      <td>176.690646</td>\n",
       "    </tr>\n",
       "    <tr>\n",
       "      <th>1</th>\n",
       "      <td>ID1636186941</td>\n",
       "      <td>0.0</td>\n",
       "      <td>7</td>\n",
       "      <td>4</td>\n",
       "      <td>-37.861835</td>\n",
       "      <td>144.905716</td>\n",
       "      <td>-37.808925</td>\n",
       "      <td>145.008836</td>\n",
       "      <td>12067.0</td>\n",
       "      <td>2018-04-16</td>\n",
       "      <td>00:30:33</td>\n",
       "      <td>3818.40</td>\n",
       "      <td>1:34:11</td>\n",
       "      <td>15.49</td>\n",
       "      <td>2</td>\n",
       "      <td>0</td>\n",
       "      <td>16.081171</td>\n",
       "    </tr>\n",
       "    <tr>\n",
       "      <th>2</th>\n",
       "      <td>ID3674911830</td>\n",
       "      <td>1.0</td>\n",
       "      <td>6</td>\n",
       "      <td>1</td>\n",
       "      <td>-37.790797</td>\n",
       "      <td>144.985865</td>\n",
       "      <td>-37.811828</td>\n",
       "      <td>144.967575</td>\n",
       "      <td>3443.0</td>\n",
       "      <td>2018-03-17</td>\n",
       "      <td>23:41:36</td>\n",
       "      <td>982.68</td>\n",
       "      <td>23:57:58</td>\n",
       "      <td>23.95</td>\n",
       "      <td>2</td>\n",
       "      <td>1</td>\n",
       "      <td>24.344194</td>\n",
       "    </tr>\n",
       "    <tr>\n",
       "      <th>3</th>\n",
       "      <td>ID3809401056</td>\n",
       "      <td>1.0</td>\n",
       "      <td>6</td>\n",
       "      <td>1</td>\n",
       "      <td>-37.773845</td>\n",
       "      <td>144.983689</td>\n",
       "      <td>-37.821160</td>\n",
       "      <td>144.955435</td>\n",
       "      <td>6554.0</td>\n",
       "      <td>2018-06-17</td>\n",
       "      <td>06:48:46</td>\n",
       "      <td>1438.38</td>\n",
       "      <td>7:12:44</td>\n",
       "      <td>16.15</td>\n",
       "      <td>0</td>\n",
       "      <td>1</td>\n",
       "      <td>15.039341</td>\n",
       "    </tr>\n",
       "    <tr>\n",
       "      <th>4</th>\n",
       "      <td>ID1856834077</td>\n",
       "      <td>0.0</td>\n",
       "      <td>2</td>\n",
       "      <td>4</td>\n",
       "      <td>-37.815214</td>\n",
       "      <td>144.935503</td>\n",
       "      <td>-37.803361</td>\n",
       "      <td>144.990553</td>\n",
       "      <td>6308.0</td>\n",
       "      <td>2018-04-15</td>\n",
       "      <td>13:32:13</td>\n",
       "      <td>1539.84</td>\n",
       "      <td>13:57:52</td>\n",
       "      <td>13.06</td>\n",
       "      <td>1</td>\n",
       "      <td>1</td>\n",
       "      <td>13.039664</td>\n",
       "    </tr>\n",
       "  </tbody>\n",
       "</table>\n",
       "</div>"
      ],
      "text/plain": [
       "             Id  Uber Type  Origin Region  Destination Region  \\\n",
       "0  ID5259808658        2.0              8                   6   \n",
       "1  ID1636186941        0.0              7                   4   \n",
       "2  ID3674911830        1.0              6                   1   \n",
       "3  ID3809401056        1.0              6                   1   \n",
       "4  ID1856834077        0.0              2                   4   \n",
       "\n",
       "   Origin Latitude  Origin Longitude  Destination Latitude  \\\n",
       "0       -37.807202        145.026637            -37.773845   \n",
       "1       -37.861835        144.905716            -37.808925   \n",
       "2       -37.790797        144.985865            -37.811828   \n",
       "3       -37.773845        144.983689            -37.821160   \n",
       "4       -37.815214        144.935503            -37.803361   \n",
       "\n",
       "   Destination Longitude  Journey Distance(m) Departure Date Departure Time  \\\n",
       "0             144.983689               8606.0     2018-07-15       13:18:43   \n",
       "1             145.008836              12067.0     2018-04-16       00:30:33   \n",
       "2             144.967575               3443.0     2018-03-17       23:41:36   \n",
       "3             144.955435               6554.0     2018-06-17       06:48:46   \n",
       "4             144.990553               6308.0     2018-04-15       13:32:13   \n",
       "\n",
       "   Travel Time(s) Arrival Time    Fare  TimeOfDay  weekend     lm_fare  \n",
       "0         2001.84     13:52:04  176.63          1        1  176.690646  \n",
       "1         3818.40      1:34:11   15.49          2        0   16.081171  \n",
       "2          982.68     23:57:58   23.95          2        1   24.344194  \n",
       "3         1438.38      7:12:44   16.15          0        1   15.039341  \n",
       "4         1539.84     13:57:52   13.06          1        1   13.039664  "
      ]
     },
     "execution_count": 76,
     "metadata": {},
     "output_type": "execute_result"
    }
   ],
   "source": [
    "df2.head()"
   ]
  },
  {
   "cell_type": "code",
   "execution_count": 77,
   "metadata": {},
   "outputs": [
    {
     "data": {
      "text/html": [
       "<div>\n",
       "<style scoped>\n",
       "    .dataframe tbody tr th:only-of-type {\n",
       "        vertical-align: middle;\n",
       "    }\n",
       "\n",
       "    .dataframe tbody tr th {\n",
       "        vertical-align: top;\n",
       "    }\n",
       "\n",
       "    .dataframe thead th {\n",
       "        text-align: right;\n",
       "    }\n",
       "</style>\n",
       "<table border=\"1\" class=\"dataframe\">\n",
       "  <thead>\n",
       "    <tr style=\"text-align: right;\">\n",
       "      <th></th>\n",
       "      <th>Unnamed: 0</th>\n",
       "      <th>Unnamed: 0.1</th>\n",
       "      <th>Uber Type</th>\n",
       "      <th>Origin Region</th>\n",
       "      <th>Destination Region</th>\n",
       "      <th>Origin Latitude</th>\n",
       "      <th>Origin Longitude</th>\n",
       "      <th>Destination Latitude</th>\n",
       "      <th>Destination Longitude</th>\n",
       "      <th>Journey Distance(m)</th>\n",
       "      <th>Departure Date</th>\n",
       "      <th>Departure Time</th>\n",
       "      <th>Travel Time(s)</th>\n",
       "      <th>Arrival Time</th>\n",
       "      <th>Fare$</th>\n",
       "    </tr>\n",
       "  </thead>\n",
       "  <tbody>\n",
       "    <tr>\n",
       "      <th>2</th>\n",
       "      <td>2</td>\n",
       "      <td>ID3992485703</td>\n",
       "      <td>1</td>\n",
       "      <td>5</td>\n",
       "      <td>8</td>\n",
       "      <td>-37.801311</td>\n",
       "      <td>144.921233</td>\n",
       "      <td>-37.815834</td>\n",
       "      <td>145.046450</td>\n",
       "      <td>11365.0</td>\n",
       "      <td>2018-04-22</td>\n",
       "      <td>05:07:28</td>\n",
       "      <td>3189.96</td>\n",
       "      <td>6:00:37</td>\n",
       "      <td>28.62</td>\n",
       "    </tr>\n",
       "    <tr>\n",
       "      <th>4</th>\n",
       "      <td>4</td>\n",
       "      <td>ID1439902035</td>\n",
       "      <td>0</td>\n",
       "      <td>3</td>\n",
       "      <td>4</td>\n",
       "      <td>-37.810580</td>\n",
       "      <td>145.000762</td>\n",
       "      <td>-37.803765</td>\n",
       "      <td>145.005667</td>\n",
       "      <td>1518.0</td>\n",
       "      <td>2018-05-23</td>\n",
       "      <td>17:52:14</td>\n",
       "      <td>375.42</td>\n",
       "      <td>17:58:29</td>\n",
       "      <td>7.38</td>\n",
       "    </tr>\n",
       "    <tr>\n",
       "      <th>5</th>\n",
       "      <td>5</td>\n",
       "      <td>ID1211049648</td>\n",
       "      <td>0</td>\n",
       "      <td>1</td>\n",
       "      <td>7</td>\n",
       "      <td>-37.804639</td>\n",
       "      <td>144.945114</td>\n",
       "      <td>-37.861835</td>\n",
       "      <td>144.905716</td>\n",
       "      <td>10032.0</td>\n",
       "      <td>2018-02-26</td>\n",
       "      <td>00:12:28</td>\n",
       "      <td>3318.96</td>\n",
       "      <td>1:07:46</td>\n",
       "      <td>15.22</td>\n",
       "    </tr>\n",
       "    <tr>\n",
       "      <th>6</th>\n",
       "      <td>6</td>\n",
       "      <td>ID1127774842</td>\n",
       "      <td>0</td>\n",
       "      <td>7</td>\n",
       "      <td>4</td>\n",
       "      <td>-37.861835</td>\n",
       "      <td>144.905716</td>\n",
       "      <td>-37.813154</td>\n",
       "      <td>145.009558</td>\n",
       "      <td>11980.0</td>\n",
       "      <td>2018-06-08</td>\n",
       "      <td>11:28:11</td>\n",
       "      <td>3751.14</td>\n",
       "      <td>12:30:42</td>\n",
       "      <td>9.66</td>\n",
       "    </tr>\n",
       "    <tr>\n",
       "      <th>9</th>\n",
       "      <td>9</td>\n",
       "      <td>ID3839095183</td>\n",
       "      <td>1</td>\n",
       "      <td>8</td>\n",
       "      <td>3</td>\n",
       "      <td>-37.807202</td>\n",
       "      <td>145.026637</td>\n",
       "      <td>-37.825367</td>\n",
       "      <td>144.982814</td>\n",
       "      <td>5901.0</td>\n",
       "      <td>2018-02-23</td>\n",
       "      <td>06:49:55</td>\n",
       "      <td>1459.32</td>\n",
       "      <td>7:14:14</td>\n",
       "      <td>8.51</td>\n",
       "    </tr>\n",
       "  </tbody>\n",
       "</table>\n",
       "</div>"
      ],
      "text/plain": [
       "   Unnamed: 0  Unnamed: 0.1  Uber Type  Origin Region  Destination Region  \\\n",
       "2           2  ID3992485703          1              5                   8   \n",
       "4           4  ID1439902035          0              3                   4   \n",
       "5           5  ID1211049648          0              1                   7   \n",
       "6           6  ID1127774842          0              7                   4   \n",
       "9           9  ID3839095183          1              8                   3   \n",
       "\n",
       "   Origin Latitude  Origin Longitude  Destination Latitude  \\\n",
       "2       -37.801311        144.921233            -37.815834   \n",
       "4       -37.810580        145.000762            -37.803765   \n",
       "5       -37.804639        144.945114            -37.861835   \n",
       "6       -37.861835        144.905716            -37.813154   \n",
       "9       -37.807202        145.026637            -37.825367   \n",
       "\n",
       "   Destination Longitude  Journey Distance(m) Departure Date Departure Time  \\\n",
       "2             145.046450              11365.0     2018-04-22       05:07:28   \n",
       "4             145.005667               1518.0     2018-05-23       17:52:14   \n",
       "5             144.905716              10032.0     2018-02-26       00:12:28   \n",
       "6             145.009558              11980.0     2018-06-08       11:28:11   \n",
       "9             144.982814               5901.0     2018-02-23       06:49:55   \n",
       "\n",
       "   Travel Time(s) Arrival Time  Fare$  \n",
       "2         3189.96      6:00:37  28.62  \n",
       "4          375.42     17:58:29   7.38  \n",
       "5         3318.96      1:07:46  15.22  \n",
       "6         3751.14     12:30:42   9.66  \n",
       "9         1459.32      7:14:14   8.51  "
      ]
     },
     "execution_count": 77,
     "metadata": {},
     "output_type": "execute_result"
    }
   ],
   "source": [
    "df3.head()"
   ]
  },
  {
   "cell_type": "code",
   "execution_count": 78,
   "metadata": {},
   "outputs": [],
   "source": [
    "# Dropping Extra columns\n",
    "df2.drop(['TimeOfDay','weekend','lm_fare'], axis=1, inplace=True)"
   ]
  },
  {
   "cell_type": "markdown",
   "metadata": {},
   "source": [
    "* Writing Data Frames To Files"
   ]
  },
  {
   "cell_type": "code",
   "execution_count": 79,
   "metadata": {},
   "outputs": [],
   "source": [
    "df1.to_csv('29968550_dirty_data_solution.csv')\n",
    "df2.to_csv('29968550_missing_value_solution.csv')\n",
    "df3.to_csv('29968550_outliers_solution.csv')"
   ]
  }
 ],
 "metadata": {
  "kernelspec": {
   "display_name": "Python 3",
   "language": "python",
   "name": "python3"
  },
  "language_info": {
   "codemirror_mode": {
    "name": "ipython",
    "version": 3
   },
   "file_extension": ".py",
   "mimetype": "text/x-python",
   "name": "python",
   "nbconvert_exporter": "python",
   "pygments_lexer": "ipython3",
   "version": "3.8.5"
  }
 },
 "nbformat": 4,
 "nbformat_minor": 2
}
